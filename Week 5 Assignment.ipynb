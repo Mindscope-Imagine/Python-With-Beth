{
 "cells": [
  {
   "cell_type": "markdown",
   "id": "e6aacfee-49a4-4e20-a8b0-7b5fd5277684",
   "metadata": {},
   "source": [
    "## <span style=\"color:red\">Beginner Level</span>"
   ]
  },
  {
   "cell_type": "markdown",
   "id": "880b9479-ff95-4ba0-a044-55af36637974",
   "metadata": {},
   "source": [
    "**<span style=\"color:blue\">1. Write a function divide_numbers(a, b) that returns the result of a / b. Handle the\n",
    "case where b is zero by returning \"Cannot divide by zero\".**</span>"
   ]
  },
  {
   "cell_type": "code",
   "execution_count": 10,
   "id": "189876e8-e68d-4f24-bc8c-7ce555433f48",
   "metadata": {},
   "outputs": [
    {
     "name": "stdout",
     "output_type": "stream",
     "text": [
      "3.0\n",
      "Error: Cannot divide by zero!\n"
     ]
    }
   ],
   "source": [
    "def divide_numbers(a, b):\n",
    "    try:\n",
    "        result = a / b\n",
    "        return result\n",
    "    except ZeroDivisionError:\n",
    "        return \"Error: Cannot divide by zero!\"\n",
    "   \n",
    "\n",
    "print(divide_numbers(24, 8))  # Output: 5.0\n",
    "print(divide_numbers(24, 0))  # Output: Cannot divide by zero"
   ]
  },
  {
   "cell_type": "markdown",
   "id": "41ea0bb7-8984-4101-9316-287ac60941f6",
   "metadata": {},
   "source": [
    "**<span style=\"color:blue\">2. Write a program that reads an integer input from the user. Use a try-except block\n",
    "to handle Value Error if the user enters invalid data (e.g., a string like \"ABC\")**.</span>"
   ]
  },
  {
   "cell_type": "code",
   "execution_count": 56,
   "id": "08f5ed85-fac4-4d53-98c3-9c4211853732",
   "metadata": {},
   "outputs": [
    {
     "name": "stdin",
     "output_type": "stream",
     "text": [
      "Enter any number:  ABC\n"
     ]
    },
    {
     "name": "stdout",
     "output_type": "stream",
     "text": [
      "Value Error: input should be only integer\n"
     ]
    }
   ],
   "source": [
    "number = (input(\"Enter any number: \")) #takes an input\n",
    "try:\n",
    "    num = int(number) #checks if input is a integer\n",
    "except ValueError:\n",
    "    print(\"Value Error: input should be only integer\") #ouputs this Value Error if inputs is not an integer\n",
    "\n",
    "\n",
    "    "
   ]
  },
  {
   "cell_type": "markdown",
   "id": "85ca5f36-fc00-4b7f-85aa-088899c94135",
   "metadata": {},
   "source": [
    "**<span style=\"color:blue\">3. Write a small program that prompts the user for their age (as an integer) and uses a try-except block to handle ValueError in case the user inputs a non-integer (e.g., \"twenty\")**.</span>\n"
   ]
  },
  {
   "cell_type": "code",
   "execution_count": 44,
   "id": "d96bb8f6-3384-4b3c-959e-d442f4522637",
   "metadata": {},
   "outputs": [
    {
     "name": "stdin",
     "output_type": "stream",
     "text": [
      "Enter your age:  twenty\n"
     ]
    },
    {
     "name": "stdout",
     "output_type": "stream",
     "text": [
      "Value Error: Age can only be an integer\n"
     ]
    }
   ],
   "source": [
    "age_1 = (input(\"Enter your age: \")) #takes an input\n",
    "\n",
    "try:\n",
    "    age = int(age_1) #checks if value is an integer\n",
    "except ValueError:\n",
    "    print(\"Value Error: Age can only be an integer\") #ouputs this Value Error if inputs is not an integer"
   ]
  },
  {
   "cell_type": "markdown",
   "id": "35ad1d09-81f6-4621-97bc-4d93a0d56714",
   "metadata": {},
   "source": [
    "**<span style=\"color:blue\">4. Create a function convert_to_int_list(str_list) that takes a list of strings (e.g., [\"1\", \"2\", \"abc\", \"4\"]) and returns a new list of integers. Use a try-except block inside a loop to handle any ValueError when a string can’t be converted, and print an error message without stopping the entire process**.</span>"
   ]
  },
  {
   "cell_type": "code",
   "execution_count": 62,
   "id": "646c44c3-99b6-4234-975f-ad1019d24af5",
   "metadata": {},
   "outputs": [
    {
     "name": "stdout",
     "output_type": "stream",
     "text": [
      "Error: Cannot convert 'abc' to an integer.\n",
      "[1, 2, 4]\n"
     ]
    }
   ],
   "source": [
    "def convert_to_int_list(str_list):\n",
    "    int_list = []\n",
    "    for item in str_list:\n",
    "        try:     # Attempt to convert the string to an integer\n",
    "            int_value = int(item)\n",
    "            int_list.append(int_value)\n",
    "        except ValueError:   # Handle the case where conversion fails\n",
    "            print(f\"Error: Cannot convert '{item}' to an integer.\")\n",
    "    return int_list\n",
    "\n",
    "\n",
    "input_list = [\"1\", \"2\", \"abc\", \"4\"]\n",
    "result = convert_to_int_list(input_list)\n",
    "print(result)  # Output: [1, 2, 4]\n"
   ]
  },
  {
   "cell_type": "markdown",
   "id": "599b41a5-a10f-4a13-b031-d8549fd0bb8e",
   "metadata": {},
   "source": [
    "***<span style=\"color:blue\">5. Create a function access_list_item(my_list, index) that attempts to return the element at index. Handle IndexError by printing a message like \"Index out of range\" if the requested index is invalid***.</span>"
   ]
  },
  {
   "cell_type": "code",
   "execution_count": 11,
   "id": "b13a0f51-900f-4502-9efe-b48d23fd5e33",
   "metadata": {},
   "outputs": [
    {
     "name": "stdout",
     "output_type": "stream",
     "text": [
      "30\n",
      "Index out of range: The list has 3 elements, but you requested index 5.\n",
      "None\n"
     ]
    }
   ],
   "source": [
    "def access_list_item(my_list, index):\n",
    "    try:\n",
    "        return my_list[index]  # Attempt to access the element at the specified index\n",
    "    except IndexError:          # Handle the case where the index is out of range\n",
    "        print(f\"Index out of range: The list has {len(my_list)} elements, but you requested index {index}.\")\n",
    "        return None  # Return None to indicate the access failed\n",
    "\n",
    "my_list = [\"book\", \"pen\", 30]\n",
    "print(access_list_item(my_list, 2))  # Output: 30\n",
    "print(access_list_item(my_list, 5))  # Output: Index out of range: The list has 4 elements, but you requested index 5. None"
   ]
  },
  {
   "cell_type": "markdown",
   "id": "2900eef4-2bae-4931-ba2e-27dd01ef04d3",
   "metadata": {},
   "source": [
    "## <span style=\"color:red\">Intermediate Level</span>"
   ]
  },
  {
   "cell_type": "markdown",
   "id": "fc5cc5ce-f73f-4309-9ed9-4d5ac1e7e263",
   "metadata": {},
   "source": [
    " ***<span style=\"color:blue\">6. Write a function get_key_value(dictionary, key) that returns the value of a given key from a dictionary. Use KeyError handling to print a friendly message if the key does not exist***.</span>"
   ]
  },
  {
   "cell_type": "code",
   "execution_count": 110,
   "id": "6f054fd6-c1c6-4b10-ae67-05dfb5546e50",
   "metadata": {},
   "outputs": [
    {
     "name": "stdout",
     "output_type": "stream",
     "text": [
      "Tunde\n",
      "Sorry. KeyError: Key 'Height' not found in the dictionary.\n"
     ]
    }
   ],
   "source": [
    "thisdict = {\"Name\": \"Tunde\", \"Sex\": \"Male\", \"Age\": 34}\n",
    "\n",
    "def get_key_value(dictionary, key):\n",
    "    try:  # Return the value associated with the key in the dictionary\n",
    "        return dictionary[key]\n",
    "    except KeyError:  # Handle the case where the key does not exist\n",
    "        return f\"Sorry. KeyError: Key '{key}' not found in the dictionary.\"\n",
    "\n",
    "\n",
    "print(get_key_value(thisdict, \"Name\"))  # Output: Tunde\n",
    "print(get_key_value(thisdict, \"Height\"))  # Output: Key 'Height' not found in the dictionary"
   ]
  },
  {
   "cell_type": "markdown",
   "id": "25b5cf5c-8029-4b47-ab71-8b99f8291b00",
   "metadata": {},
   "source": [
    "***<span style=\"color:blue\">7. Create a function calculate_bmi(weight, height) that raises a custom exception InvalidHeightError if height is 0 or negative</span>***."
   ]
  },
  {
   "cell_type": "code",
   "execution_count": 65,
   "id": "c0249840-ef3d-4da6-b260-bda3afe38c98",
   "metadata": {},
   "outputs": [
    {
     "ename": "InvalidHeightError",
     "evalue": "Zero value is not acceptable for height",
     "output_type": "error",
     "traceback": [
      "\u001b[1;31m---------------------------------------------------------------------------\u001b[0m",
      "\u001b[1;31mInvalidHeightError\u001b[0m                        Traceback (most recent call last)",
      "Cell \u001b[1;32mIn[65], line 7\u001b[0m\n\u001b[0;32m      4\u001b[0m     \u001b[38;5;28;01mreturn\u001b[39;00m weight \u001b[38;5;241m/\u001b[39m (height \u001b[38;5;241m*\u001b[39m\u001b[38;5;241m*\u001b[39m \u001b[38;5;241m2\u001b[39m)\n\u001b[0;32m      6\u001b[0m result_1 \u001b[38;5;241m=\u001b[39m calculate_bmi(\u001b[38;5;241m70\u001b[39m, \u001b[38;5;241m1.75\u001b[39m)  \u001b[38;5;66;03m# Assuming height in meters\u001b[39;00m\n\u001b[1;32m----> 7\u001b[0m result_2 \u001b[38;5;241m=\u001b[39m calculate_bmi(\u001b[38;5;241m68\u001b[39m, \u001b[38;5;241m0\u001b[39m)  \u001b[38;5;66;03m# This will raise an error\u001b[39;00m\n\u001b[0;32m      8\u001b[0m \u001b[38;5;28mprint\u001b[39m(result_1)\n\u001b[0;32m      9\u001b[0m \u001b[38;5;28mprint\u001b[39m(result_2)\n",
      "Cell \u001b[1;32mIn[65], line 3\u001b[0m, in \u001b[0;36mcalculate_bmi\u001b[1;34m(weight, height)\u001b[0m\n\u001b[0;32m      1\u001b[0m \u001b[38;5;28;01mdef\u001b[39;00m \u001b[38;5;21mcalculate_bmi\u001b[39m(weight, height):\n\u001b[0;32m      2\u001b[0m     \u001b[38;5;28;01mif\u001b[39;00m height \u001b[38;5;241m<\u001b[39m\u001b[38;5;241m=\u001b[39m \u001b[38;5;241m0\u001b[39m:\n\u001b[1;32m----> 3\u001b[0m         \u001b[38;5;28;01mraise\u001b[39;00m InvalidHeightError(\u001b[38;5;124m\"\u001b[39m\u001b[38;5;124mZero value is not acceptable for height\u001b[39m\u001b[38;5;124m\"\u001b[39m)\n\u001b[0;32m      4\u001b[0m     \u001b[38;5;28;01mreturn\u001b[39;00m weight \u001b[38;5;241m/\u001b[39m (height \u001b[38;5;241m*\u001b[39m\u001b[38;5;241m*\u001b[39m \u001b[38;5;241m2\u001b[39m)\n",
      "\u001b[1;31mInvalidHeightError\u001b[0m: Zero value is not acceptable for height"
     ]
    }
   ],
   "source": [
    "def calculate_bmi(weight, height):\n",
    "    if height <= 0:\n",
    "        raise InvalidHeightError(\"Zero value is not acceptable for height\")\n",
    "    return weight / (height ** 2)\n",
    "\n",
    "result_1 = calculate_bmi(70, 1.75)  # Assuming height in meters\n",
    "result_2 = calculate_bmi(68, 0)  # This will raise an error\n",
    "print(result_1)\n",
    "print(result_2)\n",
    "\n",
    "    "
   ]
  },
  {
   "cell_type": "code",
   "execution_count": 69,
   "id": "1ea94017-a5c9-4710-9e12-eb7890bcbef1",
   "metadata": {},
   "outputs": [
    {
     "name": "stdout",
     "output_type": "stream",
     "text": [
      "Error: Invalid value for height\n"
     ]
    }
   ],
   "source": [
    "def calculate_bmi(weight, height):\n",
    "    if height <= 0:\n",
    "        raise InvalidHeightError(\"Zero value is not acceptable for height\")\n",
    "    return weight / (height ** 2)\n",
    "\n",
    "try:\n",
    "    result_1 = calculate_bmi(70, 1.75)  # Assuming height in meters\n",
    "    result_2 = calculate_bmi(68, 0)  # This will raise an error\n",
    "    print(result_1, result_2)\n",
    "except InvalidHeightError:\n",
    "    print(f\"Error: Invalid value for height\")"
   ]
  },
  {
   "cell_type": "markdown",
   "id": "87b5c88e-44ea-436c-91ab-4f748625b22e",
   "metadata": {},
   "source": [
    "***<span style=\"colour:blue\">8. Use the raise keyword to force a TypeError if a function add_numbers(a, b) is called with non-integer arguments</span>***."
   ]
  },
  {
   "cell_type": "code",
   "execution_count": 83,
   "id": "786f26a7-6b40-4b5f-84b0-40e8a7dfa7e9",
   "metadata": {},
   "outputs": [
    {
     "ename": "TypeError",
     "evalue": "Value must be integer",
     "output_type": "error",
     "traceback": [
      "\u001b[1;31m---------------------------------------------------------------------------\u001b[0m",
      "\u001b[1;31mTypeError\u001b[0m                                 Traceback (most recent call last)",
      "Cell \u001b[1;32mIn[83], line 6\u001b[0m\n\u001b[0;32m      3\u001b[0m         \u001b[38;5;28;01mraise\u001b[39;00m \u001b[38;5;167;01mTypeError\u001b[39;00m(\u001b[38;5;124m\"\u001b[39m\u001b[38;5;124mValue must be integer\u001b[39m\u001b[38;5;124m\"\u001b[39m)\n\u001b[0;32m      4\u001b[0m     \u001b[38;5;28;01mreturn\u001b[39;00m a \u001b[38;5;241m+\u001b[39m b\n\u001b[1;32m----> 6\u001b[0m add_numbers(\u001b[38;5;241m2\u001b[39m, \u001b[38;5;124m\"\u001b[39m\u001b[38;5;124mball\u001b[39m\u001b[38;5;124m\"\u001b[39m)\n",
      "Cell \u001b[1;32mIn[83], line 3\u001b[0m, in \u001b[0;36madd_numbers\u001b[1;34m(a, b)\u001b[0m\n\u001b[0;32m      1\u001b[0m \u001b[38;5;28;01mdef\u001b[39;00m \u001b[38;5;21madd_numbers\u001b[39m(a,b):\n\u001b[0;32m      2\u001b[0m     \u001b[38;5;28;01mif\u001b[39;00m \u001b[38;5;129;01mnot\u001b[39;00m \u001b[38;5;28mtype\u001b[39m(add_numbers) \u001b[38;5;129;01mis\u001b[39;00m \u001b[38;5;28mint\u001b[39m:\n\u001b[1;32m----> 3\u001b[0m         \u001b[38;5;28;01mraise\u001b[39;00m \u001b[38;5;167;01mTypeError\u001b[39;00m(\u001b[38;5;124m\"\u001b[39m\u001b[38;5;124mValue must be integer\u001b[39m\u001b[38;5;124m\"\u001b[39m)\n\u001b[0;32m      4\u001b[0m     \u001b[38;5;28;01mreturn\u001b[39;00m a \u001b[38;5;241m+\u001b[39m b\n",
      "\u001b[1;31mTypeError\u001b[0m: Value must be integer"
     ]
    }
   ],
   "source": [
    "def add_numbers(a,b):\n",
    "    if not type(add_numbers) is int:\n",
    "        raise TypeError(\"Value must be integer\")\n",
    "    return a + b\n",
    "\n",
    "add_numbers(2, \"ball\")"
   ]
  },
  {
   "cell_type": "code",
   "execution_count": 108,
   "id": "0d58c893-c6ec-40f4-943f-79f79d37d30d",
   "metadata": {},
   "outputs": [
    {
     "name": "stdout",
     "output_type": "stream",
     "text": [
      "TypeError: Value must be integer\n"
     ]
    }
   ],
   "source": [
    "def add_numbers(a,b):\n",
    "    if not type(add_numbers) is int:\n",
    "        raise TypeError(\"Value must be integer\")\n",
    "    return a + b\n",
    "try:\n",
    "    add_numbers(2, \"ball\")\n",
    "except TypeError:\n",
    "    print(\"TypeError: Value must be integer\")"
   ]
  },
  {
   "cell_type": "code",
   "execution_count": 106,
   "id": "2b77f66f-9fea-476a-85f5-b5702db64b6f",
   "metadata": {},
   "outputs": [
    {
     "name": "stdout",
     "output_type": "stream",
     "text": [
      "TypeError: Value must be integer\n"
     ]
    }
   ],
   "source": [
    "def add_numbers(a,b):\n",
    "    if not type(add_numbers) is int:\n",
    "        raise TypeError(\"TypeError: Value must be integer\")\n",
    "    return a + b\n",
    "try:\n",
    "    add_numbers(2, \"ball\")\n",
    "except TypeError as e:\n",
    "    print(e)"
   ]
  },
  {
   "cell_type": "markdown",
   "id": "64831fff-bf89-4b78-8dd6-80b30ceaa0e4",
   "metadata": {},
   "source": [
    "***<span style=\"colour\">9. Create a function safe_division(a, b) that returns the result of a / b. Handle ZeroDivisionError with a custom message. Use the else clause to print \"Division successful!\" when no exception occurs. Return the result only if successful; otherwise, return None</span>***."
   ]
  },
  {
   "cell_type": "code",
   "execution_count": 102,
   "id": "5a734e06-c8ca-4af9-b20a-fa324f919509",
   "metadata": {},
   "outputs": [
    {
     "name": "stdout",
     "output_type": "stream",
     "text": [
      "Division Successful! The result is: 5.0\n"
     ]
    }
   ],
   "source": [
    "def safe_division(a,b):\n",
    "    if b ==0:\n",
    "        raise ZeroDivisionError(\"Error: Divisor cannot be Zero\")\n",
    "    return a/b\n",
    "\n",
    "try:\n",
    "    safe_division(15,3)\n",
    "except ZeroDivisionError as e:\n",
    "    print(e)\n",
    "else:\n",
    "    print(f\"Division Successful! The result is:\", safe_division(15,3))"
   ]
  }
 ],
 "metadata": {
  "kernelspec": {
   "display_name": "Python [conda env:base] *",
   "language": "python",
   "name": "conda-base-py"
  },
  "language_info": {
   "codemirror_mode": {
    "name": "ipython",
    "version": 3
   },
   "file_extension": ".py",
   "mimetype": "text/x-python",
   "name": "python",
   "nbconvert_exporter": "python",
   "pygments_lexer": "ipython3",
   "version": "3.12.7"
  }
 },
 "nbformat": 4,
 "nbformat_minor": 5
}

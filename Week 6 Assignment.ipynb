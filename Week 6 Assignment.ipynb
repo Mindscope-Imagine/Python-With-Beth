{
 "cells": [
  {
   "cell_type": "markdown",
   "id": "2e5cadfa-a02d-4577-bbb2-11057b42cac3",
   "metadata": {},
   "source": [
    "## <span style=\"color:red\">Beginner Level</span>"
   ]
  },
  {
   "cell_type": "markdown",
   "id": "f591e5c0-640f-4421-a89b-691c5be35a5c",
   "metadata": {},
   "source": [
    "***<span style=\"color:green\">1. Define a <span style=\"color:red\">class</span> called <span style=\"color:red\">Person</span> with attributes <span style=\"color:red\">name</span> and <span style=\"color:red\">age</span>. Create an instance and print the details</span>***."
   ]
  },
  {
   "cell_type": "code",
   "execution_count": 5,
   "id": "30e64ce0-55f7-4162-98b5-8d17920aff7d",
   "metadata": {},
   "outputs": [
    {
     "name": "stdout",
     "output_type": "stream",
     "text": [
      "Kunle is 16.\n"
     ]
    }
   ],
   "source": [
    "class Person:  #class name\n",
    "    def __init__(Self, name, age):\n",
    "        Self.name = name #instance attribute\n",
    "        Self.age = age   #instance attribute\n",
    "    def profile(Self):\n",
    "        print(f\"{Self.name} is {Self.age}.\")\n",
    "\n",
    "\n",
    "\n",
    "individual = Person(\"Kunle\",16)\n",
    "individual.profile()\n"
   ]
  },
  {
   "cell_type": "markdown",
   "id": "ece4f0cb-1c6b-430b-a590-39344796d8fd",
   "metadata": {},
   "source": [
    "***<span style=\"color:green\">2. Create a <span style=\"color:red\">class Rectangle</span> with attributes <span style=\"color:red\">length</span> and <span style=\"color:red\">width</span> and a<span style=\"color:red\"> method</span> to calculate area***</span>."
   ]
  },
  {
   "cell_type": "code",
   "execution_count": 58,
   "id": "4a5e1406-3e4f-472c-8a60-828b44fc9222",
   "metadata": {},
   "outputs": [
    {
     "name": "stdout",
     "output_type": "stream",
     "text": [
      "The area of the rectangle is 450\n"
     ]
    }
   ],
   "source": [
    "class Rectangle:\n",
    "    def __init__(self, length, width):\n",
    "        self.length = length\n",
    "        self.width = width\n",
    "    def rectangle_area(self):\n",
    "        area = self.length * self.width\n",
    "        return area\n",
    "       \n",
    "        \n",
    "\n",
    "Area = Rectangle(45, 10)\n",
    "\n",
    "print(f\"The area of the rectangle is {Area.rectangle_area()}\")\n",
    "\n"
   ]
  },
  {
   "cell_type": "markdown",
   "id": "2e9d29d1-1784-4929-ae44-da06631dad0e",
   "metadata": {},
   "source": [
    "***<span style=\"color:green\">3. Define a <span style=\"color:red\">class Student</span> with <span style=\"color:red\">name</span> and <span style=\"color:red\">marks</span>. Create multiple instances and display their details.</span>***"
   ]
  },
  {
   "cell_type": "code",
   "execution_count": 104,
   "id": "e45d496e-e684-4520-9160-b5f9d65c5e70",
   "metadata": {},
   "outputs": [
    {
     "name": "stdout",
     "output_type": "stream",
     "text": [
      "Jenny's score are [84, 90, 100]%\n",
      "George's score are [50, 67, 78]%\n",
      "penelope's score are [49, 58, 64]%\n",
      "Betty's score are [40, 51, 66.2]%\n"
     ]
    }
   ],
   "source": [
    "class student:\n",
    "    def __init__(self,name,marks):\n",
    "        self.name = name\n",
    "        self.marks = marks\n",
    "    \n",
    "    def result(self):\n",
    "        print(f\"{self.name}'s score are {self.marks}%\")\n",
    "\n",
    "student1 = student(\"Jenny\", ([84, 90, 100]))\n",
    "student2 = student(\"George\", ([50, 67, 78]))\n",
    "student3 = student(\"penelope\", ([49, 58, 64]))\n",
    "student4 = student(\"Betty\", ([40, 51, 66.2]))\n",
    "student1.result()\n",
    "student2.result()\n",
    "student3.result()\n",
    "student4.result()\n",
    "    "
   ]
  },
  {
   "cell_type": "markdown",
   "id": "24feec4e-332f-4218-b731-69e7699fea1d",
   "metadata": {},
   "source": [
    "***<span style=\"color:green\">4. Write a <span style=\"color:red\">class Book</span> with attributes <span style=\"color:red\">title</span> and <span style=\"color:red\">author</span>. Add a <span style=\"color:red\">method</span> to display details.</span>***"
   ]
  },
  {
   "cell_type": "code",
   "execution_count": 1,
   "id": "fdf91d31-df54-4fda-a473-49be665d52d0",
   "metadata": {},
   "outputs": [
    {
     "name": "stdout",
     "output_type": "stream",
     "text": [
      "The author of The Nature of Personal Reality is Jane Robert.\n",
      "The author of Zen and The Art of Motor Cycle Maintenance is John Pirsig.\n"
     ]
    }
   ],
   "source": [
    "class Book:\n",
    "    def __init__(self,title,author):\n",
    "        self.title = title\n",
    "        self.author = author\n",
    "    def book_details(self):\n",
    "        print(f\"The author of {self.title} is {self.author}.\")\n",
    "\n",
    "book_1 = Book(\"The Nature of Personal Reality\", \"Jane Robert\")\n",
    "book_2 = Book(\"Zen and The Art of Motor Cycle Maintenance\", \"John Pirsig\")\n",
    "book_1.book_details()\n",
    "book_2.book_details()"
   ]
  },
  {
   "cell_type": "markdown",
   "id": "4f5078bd-95da-49d1-88f9-529fe837b7c7",
   "metadata": {},
   "source": [
    "***<span style=\"color:green\">5. Create a <span style=\"color:red\">Laptop class</span> with attributes <span style=\"color:red\">brand, processor</span>, and <span style=\"color:red\">RAM</span>. Write a <span style=\"color:red\">method</span> to print specifications.</span>***"
   ]
  },
  {
   "cell_type": "code",
   "execution_count": 64,
   "id": "4843a604-ea76-4003-80af-13cd8d37de3d",
   "metadata": {},
   "outputs": [
    {
     "name": "stdout",
     "output_type": "stream",
     "text": [
      "Dell XPS 15 with processor Inteli7/i9 and RAM 16GB.\n",
      "HP Envy 14 with processor Intel i7 and RAM 32GB.\n",
      "Lenovo ThinkPad X1 Carbon with processor Intel i5/i7 and RAM 8GB.\n"
     ]
    }
   ],
   "source": [
    "class Laptop:\n",
    "    def __init__(self,brand,processor,RAM):\n",
    "        self.brand = brand\n",
    "        self.processor = processor\n",
    "        self.RAM = RAM\n",
    "    def spec(self):\n",
    "        print(f\"{self.brand} with processor {self.processor} and RAM {self.RAM}GB.\")\n",
    "\n",
    "\n",
    "laptop1 = Laptop(\"Dell XPS 15\", \"Inteli7/i9\", 16)\n",
    "laptop2 = Laptop(\"HP Envy 14\", \"Intel i7\", 32)\n",
    "laptop3 = Laptop(\"Lenovo ThinkPad X1 Carbon\", \"Intel i5/i7\", 8)\n",
    "\n",
    "laptop1.spec()\n",
    "laptop2.spec()\n",
    "laptop3.spec()"
   ]
  },
  {
   "cell_type": "markdown",
   "id": "59ed34eb-25ad-4929-8a70-1414a1add23c",
   "metadata": {},
   "source": [
    "## <span style=\"color:red\">Intermediate Level</span>"
   ]
  },
  {
   "cell_type": "markdown",
   "id": "76dc0946-8494-4235-aded-542a1d4d8b21",
   "metadata": {},
   "source": [
    "***<span style=\"color:green\">6. Create a <span style=\"color:red\">BankAccount class</span> with <span style=\"color:red\">deposit</span> and <span style=\"color:red\">withdrawal methods</span> and a private balance attribute.</span>***"
   ]
  },
  {
   "cell_type": "code",
   "execution_count": 146,
   "id": "556543f8-1006-4257-abb6-e3d2281a55cc",
   "metadata": {},
   "outputs": [
    {
     "name": "stdout",
     "output_type": "stream",
     "text": [
      "Deposited: N50000.00\n",
      "Withdrew: N30000.00\n",
      "The current balance: 120000\n"
     ]
    }
   ],
   "source": [
    "class BankAccount:\n",
    "    def __init__(self, initial_balance=0):\n",
    "        self.__balance = initial_balance  # Private attribute\n",
    "\n",
    "    def deposit(self, amount):\n",
    "        if amount > 0:\n",
    "            self.__balance += amount\n",
    "            print(f\"Deposited: N{amount:.2f}\")\n",
    "        else:\n",
    "            print(\"Deposit amount must be positive.\")\n",
    "\n",
    "    def withdraw(self, amount):\n",
    "        if 0 < amount <= self.__balance:\n",
    "            self.__balance -= amount\n",
    "            print(f\"Withdrew: N{amount:.2f}\")\n",
    "        else:\n",
    "            print(\"Invalid withdrawal amount or insufficient funds.\")\n",
    "\n",
    "    def get_balance(self):\n",
    "        return self.__balance  # Provide a way to access balance\n",
    "       \n",
    "        \n",
    "\n",
    "# Example usage:\n",
    "account = BankAccount(100000)  # Starting with N100,000\n",
    "account.deposit(50000)         # Depositing N50,00\n",
    "account.withdraw(30000)        # Withdrawing N30,000\n",
    "print(\"The current balance:\", account.get_balance())  # Check balance\n"
   ]
  },
  {
   "cell_type": "markdown",
   "id": "0bb10373-193b-439c-bee6-1b60304bc299",
   "metadata": {},
   "source": [
    "***<span style=\"color:green\">7. Write a <span style=\"color:red\">Shape class</span> with a <span style=\"color:red\">method area()</span>. Derive <span style=\"color:red\">Circle</span> and <span style=\"color:red\">Rectangle classes</span> and <span style=\"color:red\">override</span> the method.</span>***"
   ]
  },
  {
   "cell_type": "code",
   "execution_count": 63,
   "id": "fa0921d9-42cb-462d-a635-d473ec41fd87",
   "metadata": {},
   "outputs": [
    {
     "name": "stdout",
     "output_type": "stream",
     "text": [
      "Shape Area: 120\n",
      "Circle Area: 153.86\n",
      "Rectangle Area: 56\n"
     ]
    }
   ],
   "source": [
    "class Shape:\n",
    "    def __init__(self,length,width):\n",
    "        self.length = length\n",
    "        self.width = width\n",
    "    def Area(self):\n",
    "       return self.length * self.width\n",
    "\n",
    "\n",
    "class Circle(Shape):\n",
    "    def __init__(self, pie, radius):\n",
    "        self.pie = pie\n",
    "        self.radius = radius\n",
    "    def Area(self):\n",
    "        return self.pie * (self.radius ** 2)\n",
    "\n",
    "\n",
    "class Rectangle(Shape):\n",
    "    def __init__(self,length,width):\n",
    "        super().__init__(length, width)   #Using parent constructor\n",
    "    def Area(self):\n",
    "         return self.length * self.width\n",
    "       \n",
    "\n",
    "\n",
    "shape_area = Shape(24, 5)\n",
    "print(\"Shape Area:\", shape_area.Area())  # Output: 120\n",
    "\n",
    "circle_area = Circle(3.14, 7)\n",
    "print(\"Circle Area:\", circle_area.Area())  # Output: 153.86\n",
    "\n",
    "rectangle_area = Shape(8, 7)\n",
    "print(\"Rectangle Area:\", rectangle_area.Area())  # Output: 56\n",
    "    "
   ]
  },
  {
   "cell_type": "markdown",
   "id": "57b7f9da-e2c8-40a9-b3cf-dde22d96dd2d",
   "metadata": {},
   "source": [
    "***<span style=\"color:green\">8. Define a <span style=\"color:red\">Vehicle class</span>. <span style=\"color:red\">Inherit Ca</span>r and <span style=\"color:red\">Bike</span> from it and add specific attributes to each.</span>***"
   ]
  },
  {
   "cell_type": "code",
   "execution_count": 37,
   "id": "60c71e6d-d283-4012-b6c7-53cdab5a10f7",
   "metadata": {},
   "outputs": [
    {
     "name": "stdout",
     "output_type": "stream",
     "text": [
      "Model: Toyota Corolla, Colour: Red, Mileage: 30000 km, Body Style: Sedan, Fuel Type: Petrol\n",
      "Model: Yamaha R15, Colour: Blue, Mileage: 5000 km, Engine Capacity: 155cc, Type: Sports\n"
     ]
    }
   ],
   "source": [
    "class Vehicle:\n",
    "    def __init__(self, model, colour, mileage):\n",
    "        self.model = model\n",
    "        self.colour = colour\n",
    "        self.mileage = mileage\n",
    "        \n",
    "    def vehicle_info(self):\n",
    "        return f\"Model: {self.model}, Colour: {self.colour}, Mileage: {self.mileage} km\"\n",
    "\n",
    "class Car(Vehicle):\n",
    "    def __init__(self, model, colour, mileage, body_style, fuel_type):  #Adding two more attributes\n",
    "        super().__init__(model, colour, mileage)\n",
    "        self.body_style = body_style  # Sedan, SUV, Hatchback, etc.\n",
    "        self.fuel_type = fuel_type    # Petrol, Diesel, Electric, Hybrid\n",
    "\n",
    "    def car_info(self):\n",
    "        return f\"{self.vehicle_info()}, Body Style: {self.body_style}, Fuel Type: {self.fuel_type}\"\n",
    "\n",
    "class Bike(Vehicle):\n",
    "    def __init__(self, model, colour, mileage, engine_capacity, bike_type): #Adding two more attributes\n",
    "        super().__init__(model, colour, mileage)\n",
    "        self.engine_capacity = engine_capacity  # e.g., 150cc, 500cc\n",
    "        self.bike_type = bike_type  # Cruiser, Sports, Commuter, etc.\n",
    "\n",
    "    def bike_info(self):\n",
    "        return f\"{self.vehicle_info()}, Engine Capacity: {self.engine_capacity}cc, Type: {self.bike_type}\"\n",
    "\n",
    "# Creating objects\n",
    "car1 = Car(\"Toyota Corolla\", \"Red\", 30000, \"Sedan\", \"Petrol\")\n",
    "bike1 = Bike(\"Yamaha R15\", \"Blue\", 5000, 155, \"Sports\")\n",
    "\n",
    "# Displaying information\n",
    "print(car1.car_info())\n",
    "print(bike1.bike_info())\n"
   ]
  },
  {
   "cell_type": "markdown",
   "id": "1b30c495-bd12-44cf-a098-1d36cd8372cc",
   "metadata": {},
   "source": [
    "***<span style=\"color:green\">9. Implement a <span style=\"color:red\">ShoppingCart class</span> with methods to add and remove items.</span>***"
   ]
  },
  {
   "cell_type": "code",
   "execution_count": 63,
   "id": "6518c431-465b-4b56-821e-49259fba24bc",
   "metadata": {},
   "outputs": [
    {
     "name": "stdout",
     "output_type": "stream",
     "text": [
      "Items in the cart: Toilet Rolls, Mop stick, A bag of potato chips\n",
      "Removed Mop stick from the cart.\n",
      "Items in the cart: Toilet Rolls, A bag of potato chips\n"
     ]
    }
   ],
   "source": [
    "class ShoppingCart:\n",
    "    def __init__(self, *items):  # Accepts a flexible number of items\n",
    "        self.items = list(items)  # Store items in a list\n",
    "\n",
    "    def show_items(self):\n",
    "        if self.items:\n",
    "            print(f\"Items in the cart: {', '.join(self.items)}\")\n",
    "        else:\n",
    "            print(\"The cart is empty.\")\n",
    "\n",
    "    def remove_item(self, item):\n",
    "        if item in self.items:\n",
    "            self.items.remove(item)\n",
    "            print(f\"Removed {item} from the cart.\")\n",
    "        else:\n",
    "            print(f\"{item} is not in the cart.\")\n",
    "\n",
    "# Creating a shopping cart with items\n",
    "my_cart = ShoppingCart(\"Toilet Rolls\", \"Mop stick\", \"A bag of potato chips\")\n",
    "my_cart.show_items()\n",
    "\n",
    "# Removing an item\n",
    "my_cart.remove_item(\"Mop stick\")\n",
    "my_cart.show_items()"
   ]
  },
  {
   "cell_type": "markdown",
   "id": "3b1e6d92-ca7c-48c1-84a2-6848588eae88",
   "metadata": {},
   "source": [
    "***<span style=\"color:green\">10. Create a <span style=\"color:red\">class Employee</span> with <span style=\"color:red\">methods</span> for salary calculations based on experience level.</span>***"
   ]
  },
  {
   "cell_type": "code",
   "execution_count": 73,
   "id": "46ea1360-df37-4ab4-87e3-1ab933b5f561",
   "metadata": {},
   "outputs": [
    {
     "name": "stdout",
     "output_type": "stream",
     "text": [
      "Employee: Alice Johnson, Experience: 1 years, Salary: N52500.00\n",
      "Employee: Bob Smith, Experience: 4 years, Salary: N66000.00\n",
      "Employee: Charlie Brown, Experience: 8 years, Salary: N84000.00\n",
      "Employee: Diana Green, Experience: 12 years, Salary: N104000.00\n"
     ]
    }
   ],
   "source": [
    "class Employee:\n",
    "    def __init__(self, name, experience, base_salary):\n",
    "        self.name = name\n",
    "        self.experience = experience  # Experience in years\n",
    "        self.basic_salary = base_salary  # Base salary amount\n",
    "\n",
    "    def calculate_salary(self):\n",
    "        \"\"\"Calculates salary based on experience level.\"\"\"\n",
    "        if self.experience < 2:\n",
    "            bonus = 0.05 * self.basic_salary  # 5% bonus for <2 years\n",
    "        elif 2 <= self.experience < 5:\n",
    "            bonus = 0.10 * self.basic_salary  # 10% bonus for 2-5 years\n",
    "        elif 5 <= self.experience < 10:\n",
    "            bonus = 0.20 * self.basic_salary  # 20% bonus for 5-10 years\n",
    "        else:\n",
    "            bonus = 0.30 * self.basic_salary  # 30% bonus for 10+ years\n",
    "\n",
    "        total_salary = self.basic_salary + bonus\n",
    "        return total_salary\n",
    "\n",
    "    def employee_details(self):\n",
    "        salary = self.calculate_salary()\n",
    "        print(f\"Employee: {self.name}, Experience: {self.experience} years, Salary: N{salary:.2f}\")\n",
    "\n",
    "# Creating employee objects\n",
    "emp1 = Employee(\"Alice Johnson\", 1, 50000)\n",
    "emp2 = Employee(\"Bob Smith\", 4, 60000)\n",
    "emp3 = Employee(\"Charlie Brown\", 8, 70000)\n",
    "emp4 = Employee(\"Diana Green\", 12, 80000)\n",
    "\n",
    "# Displaying employee details\n",
    "emp1.employee_details()\n",
    "emp2.employee_details()\n",
    "emp3.employee_details()\n",
    "emp4.employee_details()"
   ]
  },
  {
   "cell_type": "markdown",
   "id": "71d67b1a-5ed4-4fd2-adcc-c0cdb111febf",
   "metadata": {},
   "source": [
    "<span style=\"color:green\"></span>"
   ]
  }
 ],
 "metadata": {
  "kernelspec": {
   "display_name": "Python 3 (ipykernel)",
   "language": "python",
   "name": "python3"
  },
  "language_info": {
   "codemirror_mode": {
    "name": "ipython",
    "version": 3
   },
   "file_extension": ".py",
   "mimetype": "text/x-python",
   "name": "python",
   "nbconvert_exporter": "python",
   "pygments_lexer": "ipython3",
   "version": "3.12.7"
  }
 },
 "nbformat": 4,
 "nbformat_minor": 5
}

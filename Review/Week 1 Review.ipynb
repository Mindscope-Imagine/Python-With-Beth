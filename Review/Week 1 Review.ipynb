{
 "cells": [
  {
   "cell_type": "markdown",
   "id": "bfbae5ad-94f2-4def-baa4-458c5269c28b",
   "metadata": {},
   "source": [
    "***1. Write a program to count how many numbers between 1 and 1000 are divisibleby both 7 and 11***."
   ]
  },
  {
   "cell_type": "code",
   "execution_count": 6,
   "id": "a28818eb-d853-4403-bb61-a4081d1b7da6",
   "metadata": {},
   "outputs": [
    {
     "name": "stdout",
     "output_type": "stream",
     "text": [
      "Count of numbers divisible by both 7 and 11: 12\n"
     ]
    }
   ],
   "source": [
    "count = 0  # Initialize counter\n",
    "\n",
    "# Loop through numbers from 1 to 1000\n",
    "for num in range(1, 1001):\n",
    "    if num % 7 == 0 and num % 11 == 0:  # Check divisibility by both 7 and 11\n",
    "        count += 1\n",
    "\n",
    "print(\"Count of numbers divisible by both 7 and 11:\", count)"
   ]
  },
  {
   "cell_type": "markdown",
   "id": "3773b71c-bbeb-4d94-b52c-d04c83e6a2bf",
   "metadata": {},
   "source": [
    "## Review\n",
    "✅ Correctness: The program correctly counts numbers between 1 and 1000 that are divisible by both 7 and 11.\n",
    "\n",
    "✅ Clarity: The logic is clear and well-structured.\n"
   ]
  },
  {
   "cell_type": "markdown",
   "id": "ef7943b7-b8ae-4936-a63c-f93af6d96a30",
   "metadata": {},
   "source": [
    "***2. Write a program to check if a given number is an <span style=\"color:green\">Armstrong number</span> (e.g., 153\n",
    "is an Armstrong number because 13+53+33=153)***."
   ]
  },
  {
   "cell_type": "code",
   "execution_count": 5,
   "id": "a3fd330d-d0f9-4309-aca7-2357dbd87d18",
   "metadata": {},
   "outputs": [
    {
     "name": "stdin",
     "output_type": "stream",
     "text": [
      "Enter a number:  153\n"
     ]
    },
    {
     "name": "stdout",
     "output_type": "stream",
     "text": [
      "153 is an Armstrong number! 🎉\n"
     ]
    }
   ],
   "source": [
    "# Get user input\n",
    "num = int(input(\"Enter a number: \"))\n",
    "\n",
    "# Convert number to string to count digits\n",
    "num_str = str(num)\n",
    "num_digits = len(num_str)\n",
    "\n",
    "# Calculate the sum of digits raised to the power of the number of digits\n",
    "sum_of_powers = sum(int(digit) ** num_digits for digit in num_str)\n",
    "\n",
    "# Check if the number is an Armstrong number\n",
    "if sum_of_powers == num:\n",
    "    print(f\"{num} is an Armstrong number! 🎉\")\n",
    "else:\n",
    "    print(f\"{num} is NOT an Armstrong number.\")"
   ]
  },
  {
   "cell_type": "markdown",
   "id": "f9973f25-0384-4b61-b84c-8067e3413a26",
   "metadata": {},
   "source": [
    "## Review\n",
    "\n",
    "✅ Correctness: The program correctly identifies Armstrong numbers by summing the nth power of each digit, where n is the number of digits.\n",
    "✅ Clarity: The logic is concise and well-structured, making it easy to understand.\n",
    "✅ Efficiency: The use of list comprehension with sum() improves readability.\n",
    "\n",
    "Suggestions\n",
    "\n",
    "If a user enters non-numeric input, the program will crash.\n",
    "\n",
    "Use try-except to handle invalid inputs gracefully:"
   ]
  },
  {
   "cell_type": "markdown",
   "id": "e5ce5c41-4137-47f1-9974-62e414cd3959",
   "metadata": {},
   "source": [
    "***3. Write a program to merge two dictionaries. If a key exists in both, sum their values***.\n",
    "\n",
    "Example: {1: 10, 2: 20} and {2: 30, 3: 40}\n",
    "\n",
    "Output: {1: 10, 2: 50, 3: 40}"
   ]
  },
  {
   "cell_type": "code",
   "execution_count": 3,
   "id": "73fecdb7-44ce-435c-93ea-c78a8df3b801",
   "metadata": {},
   "outputs": [
    {
     "name": "stdout",
     "output_type": "stream",
     "text": [
      "Merged Dictionary: {1: 10, 2: 50, 3: 40}\n"
     ]
    }
   ],
   "source": [
    "# Given dictionaries\n",
    "dict1 = {1: 10, 2: 20}\n",
    "dict2 = {2: 30, 3: 40}\n",
    "\n",
    "# Merging dictionaries with value summation\n",
    "merged_dict = dict1.copy()  # Start with dict1\n",
    "\n",
    "for key, value in dict2.items():\n",
    "    if key in merged_dict:\n",
    "        merged_dict[key] += value  # Sum values if key exists in both\n",
    "    else:\n",
    "        merged_dict[key] = value  # Add new key-value pair\n",
    "\n",
    "# Print the merged dictionary\n",
    "print(\"Merged Dictionary:\", merged_dict)"
   ]
  },
  {
   "cell_type": "markdown",
   "id": "86db275a-4d9e-49a7-9500-e2416fcfe7d2",
   "metadata": {},
   "source": [
    "## Review \n",
    "\n",
    "✅ Correctness: The program correctly merges dict1 and dict2, summing values for common keys.\n",
    "\n",
    "✅ Clarity: The structure is well-organized, making the logic easy to follow."
   ]
  },
  {
   "cell_type": "markdown",
   "id": "0b2569e9-d05f-42c7-9112-319d8d55412d",
   "metadata": {},
   "source": [
    "***4. Create a dictionary where the keys are numbers from 1 to 5, and the values are the squares of the keys***.\n",
    "\n",
    "Output: {1: 1, 2: 4, 3: 9, 4: 16, 5: 25}"
   ]
  },
  {
   "cell_type": "code",
   "execution_count": 2,
   "id": "f1b73c2b-edea-4bd8-89fb-e049f238a089",
   "metadata": {},
   "outputs": [
    {
     "name": "stdout",
     "output_type": "stream",
     "text": [
      "{1: 1, 2: 4, 3: 9, 4: 16, 5: 25}\n"
     ]
    }
   ],
   "source": [
    " #Using dictionary comprehension\n",
    "squares_dict = {num: num ** 2 for num in range(1, 6)}\n",
    "\n",
    "# Print the dictionary\n",
    "print(squares_dict)"
   ]
  },
  {
   "cell_type": "markdown",
   "id": "c746b118-d924-48af-8f2b-9d6daa8043dc",
   "metadata": {},
   "source": [
    "## Review\n",
    "\n",
    "✅ Correctness: The program correctly creates a dictionary where keys are numbers from 1 to 5, and values are their squares.\n",
    "    \n",
    "✅ Clarity: The use of dictionary comprehension makes the code clean"
   ]
  },
  {
   "cell_type": "markdown",
   "id": "97677ca0-660c-4c3b-9512-c4b83a90db7c",
   "metadata": {},
   "source": [
    "***5. Create a program that takes two sets of strings and determines if the sets are disjoint (i.e., have no common elements)***."
   ]
  },
  {
   "cell_type": "code",
   "execution_count": 39,
   "id": "553eac2c-5a1b-41e6-99af-dd17c09a7c14",
   "metadata": {},
   "outputs": [
    {
     "name": "stdin",
     "output_type": "stream",
     "text": [
      "Enter elements of first set (space-separated):  tank, stuff\n",
      "Enter elements of second set (space-separated):  tank, baby\n"
     ]
    },
    {
     "name": "stdout",
     "output_type": "stream",
     "text": [
      "The sets are NOT disjoint (they have common elements). ❌\n"
     ]
    }
   ],
   "source": [
    "# Get input from the user and convert to sets\n",
    "set1 = set(input(\"Enter elements of first set (space-separated): \").split())\n",
    "set2 = set(input(\"Enter elements of second set (space-separated): \").split())\n",
    "\n",
    "# Check if sets are disjoint\n",
    "if set1.isdisjoint(set2):\n",
    "    print(\"The sets are disjoint (no common elements). ✅\")\n",
    "else:\n",
    "    print(\"The sets are NOT disjoint (they have common elements). ❌\")"
   ]
  },
  {
   "cell_type": "markdown",
   "id": "c5a693e7-51ee-4a5c-9fde-d37e163d026b",
   "metadata": {},
   "source": [
    "## Review\n",
    "✅ Correctness: The program correctly checks whether two sets have no common elements using isdisjoint().\n",
    "\n",
    "✅ Clarity: The user-friendly messages make it easy to understand.\n",
    "\n",
    "\n"
   ]
  },
  {
   "cell_type": "markdown",
   "id": "94ce1fe0-b9b0-4d17-a953-450d80a12bcc",
   "metadata": {},
   "source": [
    "***6. Write a program to find all the vowels present in the sentence \"Python programming is fun\" using a set***."
   ]
  },
  {
   "cell_type": "code",
   "execution_count": 42,
   "id": "dfe4035d-6bac-4831-b785-e2529f2e6544",
   "metadata": {},
   "outputs": [
    {
     "name": "stdout",
     "output_type": "stream",
     "text": [
      "Vowels in the sentence: {'a', 'o', 'u', 'i'}\n"
     ]
    }
   ],
   "source": [
    "# Given sentence\n",
    "sentence = \"Python programming is fun\"\n",
    "\n",
    "# Define a set of vowels\n",
    "vowels = {'a', 'e', 'i', 'o', 'u'}\n",
    "\n",
    "# Extract vowels present in the sentence using set intersection\n",
    "found_vowels = set(sentence.lower()) & vowels  # Convert to lowercase and find common vowels\n",
    "\n",
    "# Print the vowels found\n",
    "print(\"Vowels in the sentence:\", found_vowels)"
   ]
  },
  {
   "cell_type": "markdown",
   "id": "2ec5ca4d-1571-453d-a597-31e490bc3a0a",
   "metadata": {},
   "source": [
    "## Review \n",
    "\n",
    "✅ Correctness: The program correctly extracts unique vowels present in the sentence using set intersection.\n",
    "\n",
    "✅ Efficiency: The use of set() and & (intersection) makes the solution concise and optimal."
   ]
  },
  {
   "cell_type": "markdown",
   "id": "094c657c-ccf7-4672-a1ea-a13729c227f5",
   "metadata": {},
   "source": [
    "***7. Write a program to check if a list is sorted in either ascending or descending order and return True if sorted***."
   ]
  },
  {
   "cell_type": "code",
   "execution_count": 45,
   "id": "540dc362-f1e8-4277-b9a6-49c2559512d9",
   "metadata": {},
   "outputs": [
    {
     "name": "stdout",
     "output_type": "stream",
     "text": [
      "True\n",
      "True\n",
      "False\n"
     ]
    }
   ],
   "source": [
    "def is_sorted(lst):\n",
    "    # Check if list is sorted in ascending or descending order\n",
    "    return lst == sorted(lst) or lst == sorted(lst, reverse=True)\n",
    "\n",
    "# Example lists\n",
    "list1 = [1, 2, 3, 4, 5]   # Ascending\n",
    "list2 = [9, 7, 5, 3, 1]   # Descending\n",
    "list3 = [3, 1, 4, 2, 5]   # Unsorted\n",
    "\n",
    "# Test the function\n",
    "print(is_sorted(list1))  # Output: True\n",
    "print(is_sorted(list2))  # Output: True\n",
    "print(is_sorted(list3))  # Output: False"
   ]
  },
  {
   "cell_type": "markdown",
   "id": "21b77ca6-0028-4690-a2ab-9fd8fbd47cea",
   "metadata": {},
   "source": [
    "## Review\n",
    "\n",
    "✅ Correctness: The function correctly determines whether a list is sorted in ascending or descending order.\n",
    "\n",
    "✅ Clarity: The logic is simple, readable, and well-structured.\n"
   ]
  },
  {
   "cell_type": "markdown",
   "id": "ee941f7c-9a38-4b1d-970d-5f5b9ef99fd5",
   "metadata": {},
   "source": [
    "***8. Write a program that takes two strings and checks if one string is a subsequence of the other***.\n",
    "\n",
    "Example: \"abc\" is a subsequence of \"aabbcc\"."
   ]
  },
  {
   "cell_type": "code",
   "execution_count": 49,
   "id": "d1307d01-5cea-43de-9ce2-df4fc48b416e",
   "metadata": {},
   "outputs": [
    {
     "name": "stdout",
     "output_type": "stream",
     "text": [
      "\"abc\" is a subsequence of \"aabbcc\". ✅\n"
     ]
    }
   ],
   "source": [
    "def is_subsequence(sub, main):\n",
    "    it = iter(main)  # Create an iterator of the main string\n",
    "    return all(char in it for char in sub)  # Check if all chars of sub appear in order\n",
    "\n",
    "# Example cases\n",
    "string1 = \"abc\"\n",
    "string2 = \"aabbcc\"\n",
    "\n",
    "# Check if string1 is a subsequence of string2\n",
    "if is_subsequence(string1, string2):\n",
    "    print(f'\"{string1}\" is a subsequence of \"{string2}\". ✅')\n",
    "else:\n",
    "    print(f'\"{string1}\" is NOT a subsequence of \"{string2}\". ❌')"
   ]
  },
  {
   "cell_type": "markdown",
   "id": "639df4a2-518e-4e70-bfe4-87f8d294e53b",
   "metadata": {},
   "source": [
    "## Review\n",
    "\n",
    "\n",
    "✅ Correctness: The function correctly checks whether sub is a subsequence of main while maintaining order.\n",
    "    \n",
    "✅ Efficiency: The use of an iterator (iter()) with all() makes this solution efficient.\n",
    "    \n",
    "✅ Clarity: The function is concise and readable."
   ]
  },
  {
   "cell_type": "markdown",
   "id": "f137c18b-fe01-4d9d-873a-bac8cdd88e66",
   "metadata": {},
   "source": [
    "***9. Create a program that removes the second occurrence of a value from a list***.\n",
    "\n",
    "Example: Input: [1, 2, 3, 2, 4], Value: 2\n",
    "\n",
    "Output: [1, 2, 3, 4]"
   ]
  },
  {
   "cell_type": "code",
   "execution_count": 53,
   "id": "d2caae26-b14c-4690-bc90-3bd50ade8c39",
   "metadata": {},
   "outputs": [
    {
     "name": "stdout",
     "output_type": "stream",
     "text": [
      "Output: [1, 2, 3, 4]\n"
     ]
    }
   ],
   "source": [
    "def remove_second_occurrence(lst, value):\n",
    "    count = 0  # Counter to track occurrences\n",
    "\n",
    "    for i in range(len(lst)):\n",
    "        if lst[i] == value:\n",
    "            count += 1  # Increment when the value is found\n",
    "            if count == 2:  # Remove on second occurrence\n",
    "                return lst[:i] + lst[i+1:]  # Return modified list\n",
    "\n",
    "    return lst  # If no second occurrence, return original list\n",
    "\n",
    "# Example usage\n",
    "input_list = [1, 2, 3, 2, 4]\n",
    "value_to_remove = 2\n",
    "\n",
    "result = remove_second_occurrence(input_list, value_to_remove)\n",
    "print(\"Output:\", result)"
   ]
  },
  {
   "cell_type": "markdown",
   "id": "232e1fa4-86f6-4d74-9966-a954d6c514d6",
   "metadata": {},
   "source": [
    "## Review \n",
    "\n",
    "✅ Correctness: The function correctly removes only the second occurrence of a given value.\n",
    "✅ Clarity: The approach is clear, with well-structured logic."
   ]
  },
  {
   "cell_type": "code",
   "execution_count": null,
   "id": "d6c5d84c-5689-4067-a2b0-74052a9aea40",
   "metadata": {},
   "outputs": [],
   "source": []
  }
 ],
 "metadata": {
  "kernelspec": {
   "display_name": "Python 3 (ipykernel)",
   "language": "python",
   "name": "python3"
  },
  "language_info": {
   "codemirror_mode": {
    "name": "ipython",
    "version": 3
   },
   "file_extension": ".py",
   "mimetype": "text/x-python",
   "name": "python",
   "nbconvert_exporter": "python",
   "pygments_lexer": "ipython3",
   "version": "3.12.7"
  }
 },
 "nbformat": 4,
 "nbformat_minor": 5
}

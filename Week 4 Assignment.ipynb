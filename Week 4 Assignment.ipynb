{
 "cells": [
  {
   "cell_type": "markdown",
   "id": "1e8aa508-9b74-4fef-82ee-5c4966f9ab0e",
   "metadata": {},
   "source": [
    "## **<span style = \"color: red\">Beginner Level</span>**\n"
   ]
  },
  {
   "cell_type": "markdown",
   "id": "fc1aa0f6-a8f3-454a-96d1-4f196cf491ad",
   "metadata": {},
   "source": [
    "## 1. Write a program to find the length of the string 'Hello World!' using a built-in function."
   ]
  },
  {
   "cell_type": "code",
   "execution_count": 4,
   "id": "e3e28a61-2623-4b0f-bb8c-354313007d2f",
   "metadata": {},
   "outputs": [
    {
     "name": "stdout",
     "output_type": "stream",
     "text": [
      "12\n"
     ]
    }
   ],
   "source": [
    "greeting = \"Hello, World\"\n",
    "print(len(greeting))"
   ]
  },
  {
   "cell_type": "markdown",
   "id": "fafec306-acfb-4247-9dd7-ecf1daa949b7",
   "metadata": {},
   "source": [
    "## 2. Use the type() function to check the data type of the variable my_var = 3.14."
   ]
  },
  {
   "cell_type": "code",
   "execution_count": 6,
   "id": "34e1b60e-dc9a-4a32-8ecc-f7652a57e342",
   "metadata": {},
   "outputs": [
    {
     "name": "stdout",
     "output_type": "stream",
     "text": [
      "<class 'float'>\n"
     ]
    }
   ],
   "source": [
    "my_var = 3.14\n",
    "print(type(my_var))"
   ]
  },
  {
   "cell_type": "markdown",
   "id": "4a6ab9a2-264d-48e1-a08c-bd12c7027a8e",
   "metadata": {},
   "source": [
    "## 3. Calculate the sum of all numbers in the list [5, 10, 15] using a built-in function"
   ]
  },
  {
   "cell_type": "code",
   "execution_count": 5,
   "id": "4b973f7a-14f3-4bc0-8db0-9618d463fc64",
   "metadata": {},
   "outputs": [
    {
     "name": "stdout",
     "output_type": "stream",
     "text": [
      "The sum of the numbers is 30\n"
     ]
    }
   ],
   "source": [
    "thislist = [5, 10, 15]\n",
    "print(f\"The sum of the numbers is\", sum(thislist))"
   ]
  },
  {
   "cell_type": "markdown",
   "id": "6994a5c0-6d8a-4ef5-bac2-9bcf7c67c662",
   "metadata": {},
   "source": [
    "## 4. Use the min() function to find the smallest number in [8, 3, 12, 7]."
   ]
  },
  {
   "cell_type": "code",
   "execution_count": 3,
   "id": "4a72b25d-1d54-4391-9410-42d127d4fcb7",
   "metadata": {},
   "outputs": [
    {
     "name": "stdout",
     "output_type": "stream",
     "text": [
      "The smallest number is 3\n"
     ]
    }
   ],
   "source": [
    "num = [8, 3, 12, 7]\n",
    "print(F\"The smallest number is\", min(num))"
   ]
  },
  {
   "cell_type": "markdown",
   "id": "ecb63de1-fd3e-46fe-a602-c6665cbbbae5",
   "metadata": {},
   "source": [
    "## 5. Write a program that takes user input and prints it in uppercase using a built-in function."
   ]
  },
  {
   "cell_type": "code",
   "execution_count": 5,
   "id": "9130e21c-f587-44bd-bd42-132caa428489",
   "metadata": {},
   "outputs": [
    {
     "name": "stdin",
     "output_type": "stream",
     "text": [
      "Type in any word in lower case:  sand\n"
     ]
    },
    {
     "name": "stdout",
     "output_type": "stream",
     "text": [
      "sand in upper case letters is SAND\n"
     ]
    }
   ],
   "source": [
    "word = (input(\"Type in any word in lower case: \"))\n",
    "print(f\"{word} in upper case letters is\", word.upper())"
   ]
  },
  {
   "cell_type": "markdown",
   "id": "0501b56d-a7c1-497b-8699-5c0ad052d917",
   "metadata": {},
   "source": [
    "## **<span style = \"color: red\">Intermediate</span>**"
   ]
  },
  {
   "cell_type": "markdown",
   "id": "3eae3faf-c884-4687-82d1-18f40c7a8df3",
   "metadata": {},
   "source": [
    "## 1. Sort the list [10, 5, 8, 3] in ascending and descending order using a built-in function."
   ]
  },
  {
   "cell_type": "code",
   "execution_count": 4,
   "id": "0686b1ca-e66e-413e-afe7-55b4303c4f81",
   "metadata": {},
   "outputs": [
    {
     "name": "stdout",
     "output_type": "stream",
     "text": [
      "Ascending order: [3, 5, 8, 10]\n",
      "Descending Order: [10, 8, 5, 3]\n"
     ]
    }
   ],
   "source": [
    "numbers = [10, 5, 8, 3]\n",
    "ascending_order = print(f\"Ascending order:\", sorted(numbers))\n",
    "descending_order = sorted(numbers, reverse=True) # reverse the sorted list\n",
    "print(\"Descending Order:\", descending_order)\n"
   ]
  },
  {
   "cell_type": "markdown",
   "id": "8f1fd804-8e0c-45d2-bf12-c8b968255b40",
   "metadata": {},
   "source": [
    "## 2. Write a program that accepts a list of numbers and filters out the odd numbers using the filter() function."
   ]
  },
  {
   "cell_type": "code",
   "execution_count": 18,
   "id": "e03493c4-decf-4743-8cf9-2ddd2102ff84",
   "metadata": {},
   "outputs": [
    {
     "name": "stdout",
     "output_type": "stream",
     "text": [
      "The odd numbers in the list are [3, 7, 5]\n"
     ]
    }
   ],
   "source": [
    "numbers = [3, 10, 7, 8, 5, 12]\n",
    "\n",
    "odd_numbers = filter(lambda x: x % 2 == 1, numbers)\n",
    "print(f\"The odd numbers in the list are\", list(odd_numbers))\n"
   ]
  },
  {
   "cell_type": "markdown",
   "id": "dd416644-456c-44d6-b1c9-984bf31dfab2",
   "metadata": {},
   "source": [
    "## 3. Use the zip() function to merge two lists: ['John', 'Jane'] and [80, 90]."
   ]
  },
  {
   "cell_type": "code",
   "execution_count": 28,
   "id": "1ccbf0f9-b81c-4576-8a1e-81971b6ac745",
   "metadata": {},
   "outputs": [
    {
     "name": "stdout",
     "output_type": "stream",
     "text": [
      "[('John', 80), ('Jane', 90)]\n"
     ]
    }
   ],
   "source": [
    "names = [\"John\", \"Jane\"]\n",
    "numbers = [80, 90]\n",
    "\n",
    "join = zip(names,numbers)\n",
    "print(list(join))"
   ]
  },
  {
   "cell_type": "markdown",
   "id": "7ac19df3-825f-4b95-91c1-d87e861257db",
   "metadata": {},
   "source": [
    "## 4. Write a program that rounds a floating-point number (e.g., 3.7654) to 2 decimal places\n",
    "using a built-in function.\n"
   ]
  },
  {
   "cell_type": "code",
   "execution_count": 36,
   "id": "6753731f-55aa-4663-8b48-442644ae6488",
   "metadata": {},
   "outputs": [
    {
     "name": "stdout",
     "output_type": "stream",
     "text": [
      "3.77\n"
     ]
    }
   ],
   "source": [
    "number = 3.7654\n",
    "\n",
    "print(round(number,2))"
   ]
  },
  {
   "cell_type": "markdown",
   "id": "3277e11e-6aea-4538-9a42-94423a422aff",
   "metadata": {},
   "source": [
    "## 5. Write a program that maps a function to square each number in the list [2, 4, 6, 8]."
   ]
  },
  {
   "cell_type": "code",
   "execution_count": 42,
   "id": "f2345605-8559-47e0-aeb0-426a7391ed92",
   "metadata": {},
   "outputs": [
    {
     "name": "stdout",
     "output_type": "stream",
     "text": [
      "The square value of each of these numbers: [2, 4, 6, 8] are [4, 16, 36, 64]\n"
     ]
    }
   ],
   "source": [
    "numbers = [2, 4, 6, 8]\n",
    "\n",
    "squares = map(lambda x:x**2,numbers)\n",
    "print(f\"The square value of each of these numbers: {numbers} are\", list(squares))"
   ]
  },
  {
   "cell_type": "markdown",
   "id": "c59da7d1-1122-4f2d-9eed-5d0568899800",
   "metadata": {},
   "source": [
    "## **<span style=\"color:red\">Advanced Level</span>**"
   ]
  },
  {
   "cell_type": "markdown",
   "id": "200ec1d8-ffa5-46b9-8ed2-5aab6043d27a",
   "metadata": {},
   "source": [
    "## 1. Write a program to evaluate a mathematical expression entered by the user using eval()."
   ]
  },
  {
   "cell_type": "code",
   "execution_count": 15,
   "id": "70f8800c-eef3-4f57-a7e1-3cd587b58379",
   "metadata": {},
   "outputs": [
    {
     "name": "stdin",
     "output_type": "stream",
     "text": [
      "Enter the first number:  4\n",
      "Enter the second number:  6\n",
      "Enter the third number:  8\n"
     ]
    },
    {
     "name": "stdout",
     "output_type": "stream",
     "text": [
      "Result is 3.0\n"
     ]
    }
   ],
   "source": [
    "num1 = (input(\"Enter the first number: \"))\n",
    "num2 = (input(\"Enter the second number: \"))\n",
    "num3 = (input(\"Enter the third number: \"))\n",
    "\n",
    "expression = f\"({num1} * {num2})/{num3}\"\n",
    "\n",
    "\n",
    "print(f\"Result is\", eval(expression))"
   ]
  },
  {
   "cell_type": "markdown",
   "id": "08d31150-aaef-46a7-a8cc-ff1f2830e4c5",
   "metadata": {},
   "source": [
    "## 2. Create a program that combines two lists (e.g., names and marks) into a dictionary using\n",
    "the zip() function."
   ]
  },
  {
   "cell_type": "code",
   "execution_count": 21,
   "id": "2b6f204d-33fd-4d41-8089-ba10cec63427",
   "metadata": {},
   "outputs": [
    {
     "name": "stdout",
     "output_type": "stream",
     "text": [
      "[('Tunde', 78), ('George', 60)]\n"
     ]
    }
   ],
   "source": [
    "names = (\"Tunde\", \"George\")\n",
    "marks = (78, 60)\n",
    "\n",
    "combined = zip(names, marks)\n",
    "print(list(combined))"
   ]
  },
  {
   "cell_type": "markdown",
   "id": "ff3de7ed-59ff-43d3-9f8d-7c2c1bc1c635",
   "metadata": {},
   "source": [
    "## 3. Write a program that generates the Fibonacci sequence up to 10 terms using range() and list()."
   ]
  },
  {
   "cell_type": "code",
   "execution_count": 49,
   "id": "6c02a1fd-850f-43f4-83d9-0bad0bfee916",
   "metadata": {},
   "outputs": [
    {
     "name": "stdout",
     "output_type": "stream",
     "text": [
      "Fibonacci Sequence (10 terms): [0, 1, 1, 2, 3, 5, 8, 13, 21, 34]\n"
     ]
    }
   ],
   "source": [
    "\n",
    "n_terms = 10 # Number of terms\n",
    "\n",
    "\n",
    "fib_sequence = [0, 1] # Initialize the first two Fibonacci numbers\n",
    "\n",
    "\n",
    "# Generate the next terms using range()\n",
    "for i in range(2, n_terms):  \n",
    "    next_term = fib_sequence[i - 1] + fib_sequence[i - 2]  # Sum of the last two numbers\n",
    "    fib_sequence.append(next_term)  # Add the new term to the list\n",
    "\n",
    "# Print the Fibonacci sequence\n",
    "print(\"Fibonacci Sequence (10 terms):\", fib_sequence)"
   ]
  },
  {
   "cell_type": "markdown",
   "id": "03f30859-c63f-466a-9104-a1caf571608d",
   "metadata": {},
   "source": [
    " ## 4. Use the map() function to apply a function that capitalizes each string in ['python', 'java', 'c++']."
   ]
  },
  {
   "cell_type": "code",
   "execution_count": 51,
   "id": "eaf71eec-682e-46b4-a692-41cc1e8200ef",
   "metadata": {},
   "outputs": [
    {
     "name": "stdout",
     "output_type": "stream",
     "text": [
      "['Python', 'Java', 'C++']\n"
     ]
    }
   ],
   "source": [
    "languages = ['python', 'java', 'c++']\n",
    "\n",
    "# Use map() to apply str.capitalize to each element\n",
    "capitalized_languages = list(map(str.capitalize, languages))\n",
    "\n",
    "print(capitalized_languages)"
   ]
  },
  {
   "cell_type": "markdown",
   "id": "4c928905-a289-43ab-a8b2-79a686a5e0eb",
   "metadata": {},
   "source": [
    "## 5. Write a program to filter out words shorter than 4 letters from the list ['cat', 'dog', 'elephant', 'tiger'] using filter()."
   ]
  },
  {
   "cell_type": "code",
   "execution_count": 53,
   "id": "dcafc816-507e-41f8-a9ab-d7e7f1855d39",
   "metadata": {},
   "outputs": [
    {
     "name": "stdout",
     "output_type": "stream",
     "text": [
      "['elephant', 'tiger']\n"
     ]
    }
   ],
   "source": [
    "words = ['cat', 'dog', 'elephant', 'tiger']\n",
    "\n",
    "# Use filter() to keep only words with 4 or more letters\n",
    "filtered_words = list(filter(lambda word: len(word) >= 4, words))\n",
    "\n",
    "print(filtered_words)"
   ]
  },
  {
   "cell_type": "code",
   "execution_count": null,
   "id": "c3bb1002-0ab9-4bd1-bc9c-983861391816",
   "metadata": {},
   "outputs": [],
   "source": []
  }
 ],
 "metadata": {
  "kernelspec": {
   "display_name": "Python [conda env:base] *",
   "language": "python",
   "name": "conda-base-py"
  },
  "language_info": {
   "codemirror_mode": {
    "name": "ipython",
    "version": 3
   },
   "file_extension": ".py",
   "mimetype": "text/x-python",
   "name": "python",
   "nbconvert_exporter": "python",
   "pygments_lexer": "ipython3",
   "version": "3.12.7"
  }
 },
 "nbformat": 4,
 "nbformat_minor": 5
}

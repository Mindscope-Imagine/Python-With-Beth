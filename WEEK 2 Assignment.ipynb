{
 "cells": [
  {
   "cell_type": "markdown",
   "id": "abc77e71-b79c-45e2-a170-4bbc7d786318",
   "metadata": {},
   "source": [
    "# <span style=\"color:red\">Beginner Level</span>"
   ]
  },
  {
   "cell_type": "markdown",
   "id": "2458b789-4790-492c-9290-2238181f4167",
   "metadata": {},
   "source": [
    "## 1.  **Positive or Negative Number Check**\n",
    "***Write a Python program to check if a number is positive, negative, or zero***."
   ]
  },
  {
   "cell_type": "code",
   "execution_count": 76,
   "id": "f4441ccf-27e9-44e9-b26e-1923fe323be1",
   "metadata": {},
   "outputs": [
    {
     "name": "stdin",
     "output_type": "stream",
     "text": [
      "Enter a number -5\n"
     ]
    },
    {
     "name": "stdout",
     "output_type": "stream",
     "text": [
      "For number = -5, the number is negative\n"
     ]
    }
   ],
   "source": [
    "num=int(input(\"Enter a number\")) #Asks for age\n",
    "if num > 0:\n",
    "    print(f\"For number = {num}, the number is positive\")\n",
    "elif num == 0:\n",
    "    print(f\"For number = {num}, the  number is zero\")\n",
    "else:\n",
    "    print(f\"For number = {num}, the number is negative\")"
   ]
  },
  {
   "cell_type": "markdown",
   "id": "40ed957d-00ce-426d-853a-5d8662ea3f7d",
   "metadata": {},
   "source": [
    "## 2. **Age Categorization**\n",
    "Create a Python program that takes a person's age as input and categorizes them:\n",
    "1. Child: 0–12 years\n",
    "2. Teenager: 13–19 years\n",
    "3. Adult: 20–59 years\n",
    "4. Senior: 60+ years\n",
    "\n",
    "Hint: Use if-elif-else conditions to define the categories.\n",
    "\n",
    "Expected Output Example: For age = 25, the output should be: \"You are an Adult.\""
   ]
  },
  {
   "cell_type": "code",
   "execution_count": 14,
   "id": "8f47bce0-9313-449f-8e90-0daf1afc693e",
   "metadata": {},
   "outputs": [
    {
     "name": "stdin",
     "output_type": "stream",
     "text": [
      "Enter age 18\n"
     ]
    },
    {
     "name": "stdout",
     "output_type": "stream",
     "text": [
      "You are a teenager\n"
     ]
    }
   ],
   "source": [
    "age = int(input(\"Enter age\")) #Get age\n",
    "if age > 0 and age <= 12:\n",
    "          print(\"You are a child\")\n",
    "elif age >= 13 and age <= 19:\n",
    "    print(\"You are a teenager\")\n",
    "elif age >= 20 and age <= 59:\n",
    "    print(\"You are a adult\")\n",
    "else:\n",
    "    print(\"You are a senior citizen\")\n",
    "          "
   ]
  },
  {
   "cell_type": "markdown",
   "id": "6ff3db64-6f95-48d4-8d42-cddf4a319c59",
   "metadata": {},
   "source": [
    "## 3. **Grade Checker**\n",
    "Write a Python program that calculates the grade of a student based on their score using these\n",
    "conditions:\n",
    "1. 90 and above: Grade A\n",
    "2. 80–89: Grade B\n",
    "3. 70–79: Grade C\n",
    "4. 60–69: Grade D\n",
    "5. Below 60: Grade F\n",
    "\n",
    "Expected Output Example: For score = 85, the output should be:\"Your grade is B.\""
   ]
  },
  {
   "cell_type": "code",
   "execution_count": 24,
   "id": "afb6d75e-0f93-482e-affa-f8684e5e24a5",
   "metadata": {},
   "outputs": [
    {
     "name": "stdin",
     "output_type": "stream",
     "text": [
      "Enter grade 59\n"
     ]
    },
    {
     "name": "stdout",
     "output_type": "stream",
     "text": [
      "Your grade is F.\n"
     ]
    }
   ],
   "source": [
    "grade = int(input(\"Enter grade\")) #get grade\n",
    "if grade >= 90:\n",
    "          print(\"Your grade is A.\")\n",
    "elif grade >= 80 and grade <= 89:\n",
    "    print(\"Your grade is B.\")\n",
    "elif grade >= 70 and grade <= 79:\n",
    "    print(\"Your gade is C.\")\n",
    "elif grade >= 60 and grade <= 69:\n",
    "    print(\"Your gade is D.\")\n",
    "else:\n",
    "    print(\"Your grade is F.\")\n",
    "          "
   ]
  },
  {
   "cell_type": "markdown",
   "id": "8397cd69-d021-4ea2-8976-84f99efdaa53",
   "metadata": {},
   "source": [
    "## 4. **Print Numbers (For Loop)**\n",
    "***Write a program to print all the numbers from 1 to 10 using a for loop***."
   ]
  },
  {
   "cell_type": "code",
   "execution_count": 2,
   "id": "851d68bd-a486-4abe-b898-8372cd26dc69",
   "metadata": {},
   "outputs": [
    {
     "name": "stdout",
     "output_type": "stream",
     "text": [
      "1\n",
      "2\n",
      "3\n",
      "4\n",
      "5\n",
      "6\n",
      "7\n",
      "8\n",
      "9\n",
      "10\n"
     ]
    }
   ],
   "source": [
    "for i in range(1,11):\n",
    "    print(i)"
   ]
  },
  {
   "cell_type": "markdown",
   "id": "6e3a945f-fbe8-4cf4-a759-8078d2b50709",
   "metadata": {},
   "source": [
    "## 5. **Countdown Timer (While Loop)**\n",
    "Write a program that asks the user to input a number and then counts down to 0 using a while\n",
    "loop."
   ]
  },
  {
   "cell_type": "code",
   "execution_count": 6,
   "id": "a9ab659a-9f08-4cb5-9c1e-2226bbdea346",
   "metadata": {},
   "outputs": [
    {
     "name": "stdout",
     "output_type": "stream",
     "text": [
      "5\n",
      "4\n",
      "3\n",
      "2\n",
      "1\n",
      "0\n"
     ]
    }
   ],
   "source": [
    "# Initialize the counter variable with the starting value of 5\n",
    "counter = 5\n",
    "\n",
    "# Start a while loop that runs as long as the counter is greater than or equal to 0\n",
    "while counter >= 0:\n",
    "    print(counter) # Print the current value of the counter\n",
    "    counter += -1  # Decrease the counter by 1 in each iteration (counter = counter - 1). Alternatively, this could be written as counter -= 1"
   ]
  },
  {
   "cell_type": "markdown",
   "id": "38a40fb3-27d2-45d2-9144-8ab33dfdac58",
   "metadata": {},
   "source": [
    "# <span style=\"color:red\">Intermediate</span>"
   ]
  },
  {
   "cell_type": "markdown",
   "id": "42effa0d-a7ce-4fca-b3ab-9cbf7c059422",
   "metadata": {},
   "source": [
    "## 1. **Sum of Even Numbers**\n",
    "***Create a Python program that calculates the sum of all even numbers between 1 and 50 using a\n",
    "for loop.**\n",
    "***Hint: Use the range() function with steps of 2 to iterate over even numbers***."
   ]
  },
  {
   "cell_type": "code",
   "execution_count": 2,
   "id": "ba45a85a-32b2-49d8-9977-fa704c2a904c",
   "metadata": {},
   "outputs": [
    {
     "name": "stdout",
     "output_type": "stream",
     "text": [
      "The sum of all even numbers between 1 and 50 is: 650\n"
     ]
    }
   ],
   "source": [
    "# Initialize a variable to store the sum\n",
    "total_sum = 0\n",
    "\n",
    "# Iterate over even numbers from 2 to 50 (inclusive)\n",
    "for number in range(2, 51, 2):\n",
    "    total_sum += number  # Add each even number to the sum\n",
    "\n",
    "# Print the result\n",
    "print(\"The sum of all even numbers between 1 and 50 is:\", total_sum)\n",
    "    "
   ]
  },
  {
   "cell_type": "markdown",
   "id": "79443245-8fb5-4bc2-b999-e684854715c8",
   "metadata": {},
   "source": [
    "## 2.  **Simple Guessing Game**\n",
    "Write a Python program that simulates a simple guessing game:\n",
    "1. Use a while loop to ask the user to guess a number between 1 and 20.\n",
    "2. If the guess is correct, print “Congratulations! You guessed it!” and exit the loop.\n",
    "3. If the guess is too high or too low, provide feedback and let them guess again.\n",
    "4. The program should stop after 5 incorrect attempts and print “Game Over.”\n",
    "   \n",
    "Hint:\n",
    "1. Use a random number generator (random.randint()) to set the correct number.\n",
    "2. Use a counter to track the number of attempts."
   ]
  },
  {
   "cell_type": "code",
   "execution_count": 21,
   "id": "1790c87e-5706-4cf4-a0e1-575ebb884a13",
   "metadata": {},
   "outputs": [
    {
     "name": "stdout",
     "output_type": "stream",
     "text": [
      "Hello friend. You have ONLY 5 guesses to make\n"
     ]
    },
    {
     "name": "stdin",
     "output_type": "stream",
     "text": [
      "Guess what the number is:  88\n"
     ]
    },
    {
     "name": "stdout",
     "output_type": "stream",
     "text": [
      "Your guess is wrong. You have 4 guesses remaining\n"
     ]
    },
    {
     "name": "stdin",
     "output_type": "stream",
     "text": [
      "Guess what the number is:  90\n"
     ]
    },
    {
     "name": "stdout",
     "output_type": "stream",
     "text": [
      "Your guess is wrong. You have 3 guesses remaining\n"
     ]
    },
    {
     "name": "stdin",
     "output_type": "stream",
     "text": [
      "Guess what the number is:  54\n"
     ]
    },
    {
     "name": "stdout",
     "output_type": "stream",
     "text": [
      "Your guess is wrong. You have 2 guesses remaining\n"
     ]
    },
    {
     "name": "stdin",
     "output_type": "stream",
     "text": [
      "Guess what the number is:  34\n"
     ]
    },
    {
     "name": "stdout",
     "output_type": "stream",
     "text": [
      "Your guess is wrong. You have 1 guesses remaining\n"
     ]
    },
    {
     "name": "stdin",
     "output_type": "stream",
     "text": [
      "Guess what the number is:  7\n"
     ]
    },
    {
     "name": "stdout",
     "output_type": "stream",
     "text": [
      "Your guess is correct\n"
     ]
    }
   ],
   "source": [
    "numbers = range(1, 21)  \n",
    "print(\"Hello friend. You have ONLY 5 guesses to make\")\n",
    "\n",
    "attempts = 5\n",
    "\n",
    "while attempts > 0:\n",
    "    guess_number = int(input('Guess what the number is: '))\n",
    "\n",
    "    if 1 <= guess_number <= 20:  # condition\n",
    "        print(\"Your guess is correct\")\n",
    "        break  # Exit the loop if the guess is correct\n",
    "    else:\n",
    "        attempts -= 1\n",
    "        print(f\"Your guess is wrong. You have {attempts} guesses remaining\")\n",
    "        continue  # Moves to the next iteration (not strictly needed here)\n",
    "\n",
    "if attempts == 0:\n",
    "    print(\"Sorry, you have used all your attempts.\")\n",
    "    \n",
    "    "
   ]
  },
  {
   "cell_type": "markdown",
   "id": "60679afb-773b-4dde-a784-2de95f58b217",
   "metadata": {},
   "source": [
    "## 3.  **Password Checker (If Statement + While Loop)**\n",
    "Create a program that:\n",
    "1. Asks the user to enter a password.\n",
    "2. Checks if the password matches a predefined value (e.g., \"python123\").\n",
    "3. If incorrect, lets the user try again.\n",
    "4. Stops and prints \"Access Granted\" when the correct password is entered"
   ]
  },
  {
   "cell_type": "code",
   "execution_count": 37,
   "id": "9620b3ac-b170-47d4-a347-32d3d722efda",
   "metadata": {},
   "outputs": [
    {
     "name": "stdin",
     "output_type": "stream",
     "text": [
      "Enter your password, please: python123\n"
     ]
    },
    {
     "name": "stdout",
     "output_type": "stream",
     "text": [
      "Access granted\n"
     ]
    }
   ],
   "source": [
    "pass_word = input(\"Enter your password, please:\") #ask for passwird\n",
    "\n",
    "if pass_word == (\"python123\"):\n",
    "    print(\"Access granted\") #Outputs this if password is correct\n",
    "else:\n",
    "    print(\"Incorrect Password! Try again\")  #Outputs this if password is incorrect\n",
    "\n"
   ]
  },
  {
   "cell_type": "markdown",
   "id": "ea5d6ce1-eaa7-46e4-8c29-b25b6c83b8a8",
   "metadata": {},
   "source": [
    "## 4.  **Nested Loops Practice**\n",
    "Write a program that prints a pattern using nested loops:\n",
    "\n",
    ".*\n",
    "\n",
    ".**\n",
    "\n",
    ".***\n",
    "\n",
    ".****\n",
    "\n",
    ".*****"
   ]
  },
  {
   "cell_type": "code",
   "execution_count": 51,
   "id": "8f12bbce-8654-44b6-9a72-1045c4b4d008",
   "metadata": {},
   "outputs": [
    {
     "name": "stdout",
     "output_type": "stream",
     "text": [
      "*\n",
      "**\n",
      "***\n",
      "****\n",
      "*****\n"
     ]
    }
   ],
   "source": [
    "rows = 5  # Number of rows\n",
    "\n",
    "for i in range(1, rows + 1):  # Outer loop for rows\n",
    "    for j in range(i):  # Inner loop for printing '*'\n",
    "        print('*', end='')  # Print '*' without a new line\n",
    "    print()  # Move to the next line after each row"
   ]
  },
  {
   "cell_type": "markdown",
   "id": "35cca6ca-a3f9-4474-a757-d0106eba8ae3",
   "metadata": {},
   "source": [
    "## 5. **Number Triangle**\n",
    "***Create a program that uses nested loops to print the following triangle:***\n",
    "\n",
    "1. ) 1\n",
    "2. ) 1 2\n",
    "3. ) 1 2 3\n",
    "4. ) 1 2 3 4\n",
    "5. ) 1 2 3 4 5"
   ]
  },
  {
   "cell_type": "code",
   "execution_count": 63,
   "id": "de7e58cb-7373-47fe-8c80-f5e9ae54a3a5",
   "metadata": {},
   "outputs": [
    {
     "name": "stdout",
     "output_type": "stream",
     "text": [
      "1 \n",
      "1 2 \n",
      "1 2 3 \n",
      "1 2 3 4 \n",
      "1 2 3 4 5 \n"
     ]
    }
   ],
   "source": [
    "rows = 5  # Number of rows\n",
    "\n",
    "for i in range(1, rows + 1):  # Outer loop for rows\n",
    "    for j in range(1, i + 1):  # Inner loop for numbers in each row\n",
    "        print(j, end=' ')  # Print numbers with space\n",
    "    print()  # Move to the next line after each row"
   ]
  },
  {
   "cell_type": "markdown",
   "id": "cddd8437-b390-4e13-a212-72dfcd6a3a08",
   "metadata": {},
   "source": [
    "# <span style=\"color:red\">Advanced Level</span>"
   ]
  },
  {
   "cell_type": "markdown",
   "id": "bedf0837-dcf8-42ed-a68c-a39586157b12",
   "metadata": {},
   "source": [
    "## 1. **Advanced Grade Checker**\n",
    "***Enhance the grade checker program to handle invalid scores: If the score is less than 0 or greater than 100, print \"Invalid score.\"***\n",
    "\n",
    "Hint: Use nested conditional statements or logical operators."
   ]
  },
  {
   "cell_type": "code",
   "execution_count": 72,
   "id": "b29ecb89-4280-4e34-9fc9-412791e79039",
   "metadata": {},
   "outputs": [
    {
     "name": "stdin",
     "output_type": "stream",
     "text": [
      "Enter your score (0-100):  101\n"
     ]
    },
    {
     "name": "stdout",
     "output_type": "stream",
     "text": [
      "Invalid score. Please enter a number between 0 and 100.\n"
     ]
    }
   ],
   "source": [
    "score = float(input(\"Enter your score (0-100): \")) # Get user input\n",
    "\n",
    "# Check if the score is valid\n",
    "if 0 <= score <= 100:  \n",
    "    # Determine the grade\n",
    "    if score >= 90:\n",
    "        grade = \"A\"\n",
    "    elif score >= 80:\n",
    "        grade = \"B\"\n",
    "    elif score >= 70:\n",
    "        grade = \"C\"\n",
    "    elif score >= 60:\n",
    "        grade = \"D\"\n",
    "    else:\n",
    "        grade = \"F\"\n",
    "    \n",
    "    print(f\"Your grade is: {grade}\")\n",
    "\n",
    "else:\n",
    "    print(\"Invalid score. Please enter a number between 0 and 100.\")"
   ]
  },
  {
   "cell_type": "markdown",
   "id": "5cf4a9e9-9162-42bb-831e-3e4c44598d0b",
   "metadata": {},
   "source": [
    "## 3. **Sum of Digits**\n",
    "***Write a Python program to calculate the sum of the digits of a given number:***\n",
    "\n",
    "***Input Example: 1234***\n",
    "\n",
    "***Output Example: \"The sum of digits is 10.\"***"
   ]
  },
  {
   "cell_type": "code",
   "execution_count": 104,
   "id": "db0f3239-a355-414b-ac5b-1ed79b8e197b",
   "metadata": {},
   "outputs": [
    {
     "name": "stdout",
     "output_type": "stream",
     "text": [
      "Sum of digits: 10\n"
     ]
    }
   ],
   "source": [
    "num = 1234\n",
    "sum_of_digits = sum(int(digit) for digit in str(num))\n",
    "print(\"Sum of digits:\", sum_of_digits)"
   ]
  },
  {
   "cell_type": "markdown",
   "id": "6807b052-088d-4b3c-87b3-62b84c55a9b9",
   "metadata": {},
   "source": [
    "## 4. **Prime Numbers in Range**\n",
    "***Write a program that finds and prints all prime numbers between 1 and 100.***\n",
    "\n",
    "Hint: Use nested loops to check divisibility for each number."
   ]
  },
  {
   "cell_type": "code",
   "execution_count": 107,
   "id": "70c541b8-b42d-48ef-b743-008620f292db",
   "metadata": {},
   "outputs": [
    {
     "name": "stdout",
     "output_type": "stream",
     "text": [
      "2 3 5 7 11 13 17 19 23 29 31 37 41 43 47 53 59 61 67 71 73 79 83 89 97 "
     ]
    }
   ],
   "source": [
    "# Loop through numbers from 1 to 100\n",
    "for num in range(1, 101):  \n",
    "    if num > 1:  # Prime numbers are greater than 1\n",
    "        is_prime = True  # Assume the number is prime\n",
    "\n",
    "        # Check divisibility by numbers from 2 to sqrt(num) (optimization)\n",
    "        for i in range(2, int(num ** 0.5) + 1):\n",
    "            if num % i == 0:  # If divisible, it's not prime\n",
    "                is_prime = False\n",
    "                break  # No need to check further\n",
    "\n",
    "        if is_prime:\n",
    "            print(num, end=\" \")  # Print prime numbers in a single line"
   ]
  },
  {
   "cell_type": "markdown",
   "id": "a9a91a05-5444-4cce-b432-d222f0eda1fa",
   "metadata": {},
   "source": [
    "## 5. **Advanced Countdown Timer**\n",
    "***Modify the countdown timer program to include delay of 1 second between each number (use time.sleep(1)) and acustom message at the end, like \"Time's up!\"***"
   ]
  },
  {
   "cell_type": "code",
   "execution_count": 111,
   "id": "99158195-f27e-477b-997d-40dda46c3859",
   "metadata": {},
   "outputs": [
    {
     "name": "stdin",
     "output_type": "stream",
     "text": [
      "Enter the countdown start number:  5\n"
     ]
    },
    {
     "name": "stdout",
     "output_type": "stream",
     "text": [
      "5\n",
      "4\n",
      "3\n",
      "2\n",
      "1\n",
      "Time's up! ⏳🎉\n"
     ]
    }
   ],
   "source": [
    "import time  # Import time module for delay\n",
    "\n",
    "# Get user input for countdown start\n",
    "countdown_start = int(input(\"Enter the countdown start number: \"))\n",
    "\n",
    "# Countdown loop\n",
    "for i in range(countdown_start, 0, -1):  # Loop from start to 1\n",
    "    print(i)  # Print the current number\n",
    "    time.sleep(1)  # Pause for 1 second\n",
    "\n",
    "# Display final message\n",
    "print(\"Time's up! ⏳🎉\")"
   ]
  },
  {
   "cell_type": "code",
   "execution_count": null,
   "id": "c9c080f4-848c-476b-978f-7e6a1b1eb8d6",
   "metadata": {},
   "outputs": [],
   "source": []
  }
 ],
 "metadata": {
  "kernelspec": {
   "display_name": "Python [conda env:base] *",
   "language": "python",
   "name": "conda-base-py"
  },
  "language_info": {
   "codemirror_mode": {
    "name": "ipython",
    "version": 3
   },
   "file_extension": ".py",
   "mimetype": "text/x-python",
   "name": "python",
   "nbconvert_exporter": "python",
   "pygments_lexer": "ipython3",
   "version": "3.12.7"
  }
 },
 "nbformat": 4,
 "nbformat_minor": 5
}

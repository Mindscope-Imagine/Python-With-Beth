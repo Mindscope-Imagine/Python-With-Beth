{
 "cells": [
  {
   "cell_type": "markdown",
   "id": "a6c88f95-feae-4b0e-9a75-c282ab4ca0d2",
   "metadata": {},
   "source": [
    "# **<span style=\"color: red\">Beginner Level</span>**\n"
   ]
  },
  {
   "cell_type": "markdown",
   "id": "d2a294f1-6d34-4b86-ba79-69e3538779a7",
   "metadata": {},
   "source": [
    "## 1. The Greeting Machine"
   ]
  },
  {
   "cell_type": "code",
   "execution_count": 9,
   "id": "9acdbd47-3e06-4ec3-a660-9644c5f570eb",
   "metadata": {},
   "outputs": [
    {
     "name": "stdout",
     "output_type": "stream",
     "text": [
      "Hello,Kunle! Welcome to the world of Python!\n"
     ]
    }
   ],
   "source": [
    "def greet(name):\n",
    "    print(f\"Hello,{name}! Welcome to the world of Python!\")\n",
    "\n",
    "greet(\"Kunle\")"
   ]
  },
  {
   "cell_type": "markdown",
   "id": "1861a6bb-0bf5-4b43-8e90-59d512a01017",
   "metadata": {},
   "source": [
    "## 2. The Recipe Helper\n",
    "Create a function make_pancake(flour, eggs, milk) that takes in the amount of flour,\n",
    "eggs, and milk, and returns the total number of pancakes you can make (based on the\n",
    "formula: 1 cup flour, 1 egg, 1 cup milk makes 4 pancakes). Call the function and print\n",
    "the result."
   ]
  },
  {
   "cell_type": "code",
   "execution_count": null,
   "id": "c49d8fe3-ecbd-4372-9492-ae849c187584",
   "metadata": {},
   "outputs": [],
   "source": []
  },
  {
   "cell_type": "markdown",
   "id": "54b41240-0502-46c3-bddc-aa5b70c337f4",
   "metadata": {},
   "source": [
    "## 3. Temperature Converter:\n",
    "Write a function convert_to_fahrenheit(celsius) that converts a temperature from\n",
    "Celsius to Fahrenheit.\n",
    "Formula: (Celsius * 9/5) + 32 = Fahrenheit. Call the function with a temperature of\n",
    "20°C.\n"
   ]
  },
  {
   "cell_type": "code",
   "execution_count": 3,
   "id": "76c1e108-a6bd-436e-9f8a-6a71683d714f",
   "metadata": {},
   "outputs": [
    {
     "data": {
      "text/plain": [
       "68.0"
      ]
     },
     "execution_count": 3,
     "metadata": {},
     "output_type": "execute_result"
    }
   ],
   "source": [
    "def convert_to_fahrenheit(Celsius):\n",
    "    return (Celsius * 9/5) +32\n",
    "    \n",
    "convert_to_fahrenheit(20)"
   ]
  },
  {
   "cell_type": "markdown",
   "id": "431523dc-594f-4806-9e2c-7a46084490b9",
   "metadata": {},
   "source": [
    "## 4. Number Cruncher:\n",
    "Create a function add_two_numbers(num1, num2) that takes two numbers as arguments and returns their sum. Test the function by adding 3 and 7."
   ]
  },
  {
   "cell_type": "code",
   "execution_count": 19,
   "id": "425b8219-bcce-490e-8ffe-901d83f1078d",
   "metadata": {},
   "outputs": [
    {
     "name": "stdout",
     "output_type": "stream",
     "text": [
      "Sum of the numbers =  10\n"
     ]
    }
   ],
   "source": [
    "def add_two_numbers(num1,num2): #functions takes two parameters\n",
    "    sum_numbers = num1 + num2   #sums up number\n",
    "    return sum_numbers          #returns sum to the caller\n",
    "\n",
    "print(f\"Sum of the numbers = \", add_two_numbers(3,7)) #prints the sum of the numbers\n"
   ]
  },
  {
   "cell_type": "markdown",
   "id": "4add9ddd-072e-4528-ab1f-7e45f4a428e4",
   "metadata": {},
   "source": [
    "## 5. The Personalized Welcome:\n",
    "Write a function personalized_welcome(name) that takes a name and prints out:\n",
    "\"Welcome, <name>! You are doing amazing!\". Try calling the function with different\n",
    "names."
   ]
  },
  {
   "cell_type": "code",
   "execution_count": 17,
   "id": "ae72aaaf-63dc-4442-a123-2628f24916c3",
   "metadata": {},
   "outputs": [
    {
     "name": "stdin",
     "output_type": "stream",
     "text": [
      "What's your name? Segun\n"
     ]
    },
    {
     "name": "stdout",
     "output_type": "stream",
     "text": [
      "Welcome, Segun! You are doing amazingly well\n"
     ]
    }
   ],
   "source": [
    "name = input(\"What's your name?\") #Asks for user's name\n",
    "\n",
    "def personalised_name(name):\n",
    "    print(f\"Welcome, {name}! You are doing amazingly well.\")\n",
    "\n",
    "personalised_name(name)"
   ]
  },
  {
   "cell_type": "markdown",
   "id": "0add49ff-5dad-4bd0-aaf2-9730474f0734",
   "metadata": {},
   "source": [
    "# **<span style=\"color: red\">Intermediate Level</span>**\n"
   ]
  },
  {
   "cell_type": "markdown",
   "id": "892f9840-8477-4a46-9390-7b9fd07e4dbf",
   "metadata": {},
   "source": [
    "## 1. Math Quiz:\n",
    "Write a function math_quiz(num1, num2) that accepts two numbers and returns the sum, difference, product, and quotient of these two numbers in a tuple. For example:(sum, difference, product, quotient). Call the function with 5 and 3."
   ]
  },
  {
   "cell_type": "code",
   "execution_count": 9,
   "id": "2a81a461-7775-4c41-b423-85315266339e",
   "metadata": {},
   "outputs": [
    {
     "name": "stdout",
     "output_type": "stream",
     "text": [
      "(8, 2, 15, 1.6666666666666667)\n"
     ]
    }
   ],
   "source": [
    "def maths_quiz(num1,num2):\n",
    "    sum_num = num1 + num2\n",
    "    difference = num1 - num2\n",
    "    product = num1 * num2\n",
    "    quotient = num1/num2\n",
    "    return sum_num,difference,product,quotient\n",
    "   \n",
    "\n",
    "\n",
    "result = maths_quiz(5,3)\n",
    "print(result)"
   ]
  },
  {
   "cell_type": "markdown",
   "id": "ac55531f-2ed6-460f-a108-654b871cf411",
   "metadata": {},
   "source": [
    "## 2. Magic Box\n",
    "Create a function magic_box(item1, item2) that returns a sentence like: \"You have placed <item1> and <item2> in the magic box!\". Make the items \"a book\" and \"a pen\". Test the function with different items."
   ]
  },
  {
   "cell_type": "code",
   "execution_count": 25,
   "id": "b0cbd636-1158-4756-9b5e-aec8fd77eeec",
   "metadata": {},
   "outputs": [
    {
     "name": "stdin",
     "output_type": "stream",
     "text": [
      "Enter the title of any book:  The Famous Five\n",
      "Enter a type of pen:  Leo Smart\n"
     ]
    },
    {
     "name": "stdout",
     "output_type": "stream",
     "text": [
      "You have placed 'The Famous Five' and 'Leo Smart' in the magic box\n"
     ]
    }
   ],
   "source": [
    "item1 =input(\"Enter the title of any book: \")\n",
    "item2 = input(\"Enter a type of pen: \")\n",
    "\n",
    "def magic_box(item1,item2):\n",
    "    print(f\"You have placed '{item1}' and '{item2}' in the magic box\")\n",
    "\n",
    "magic_box(item1,item2)\n",
    "    "
   ]
  },
  {
   "cell_type": "markdown",
   "id": "479d2aa0-deba-4fd8-96b0-20bcece4ed10",
   "metadata": {},
   "source": [
    "## 3. Superhero Power Check:\n",
    "Write a function can_fly(power_level) that takes the power level of a superhero as\n",
    "input and returns \"You can fly!\" if the power level is greater than 100, or \"Try again,\n",
    "keep training!\" if the power level is 100 or less."
   ]
  },
  {
   "cell_type": "code",
   "execution_count": 48,
   "id": "693f707a-2999-46af-8ead-8caf0401d3db",
   "metadata": {},
   "outputs": [
    {
     "name": "stdin",
     "output_type": "stream",
     "text": [
      "Enter super hero power level:  101\n"
     ]
    },
    {
     "name": "stdout",
     "output_type": "stream",
     "text": [
      "You can fly!\n"
     ]
    }
   ],
   "source": [
    "power_level = (int(input(\"Enter super hero power level: \")))\n",
    "\n",
    "def can_fly(power_level):\n",
    "    if power_level > 100:\n",
    "        print(\"You can fly!\")\n",
    "    else:\n",
    "        print(\"Try again. Keep training!\")\n",
    "\n",
    "can_fly(power_level)\n",
    "    "
   ]
  },
  {
   "cell_type": "markdown",
   "id": "767ec0d6-83aa-44d4-b46a-5922f6b8dd45",
   "metadata": {},
   "source": [
    "## 4. Shape Area Calculator:\n",
    "Create a function calculate_area(shape, dimension1, dimension2=0) that calculates the\n",
    "area of a rectangle (length × width) or square (side × side). The second dimension\n",
    "should default to 0 for squares. Test your function with both shapes."
   ]
  },
  {
   "cell_type": "code",
   "execution_count": 21,
   "id": "d6b7dcee-866c-4948-988c-7d88fb5d06c9",
   "metadata": {},
   "outputs": [
    {
     "name": "stdout",
     "output_type": "stream",
     "text": [
      "The area of the rectangle is 15.\n",
      "The area of the square is 16.\n"
     ]
    }
   ],
   "source": [
    "def calculate_area(shape, dimension1, dimension2=0):\n",
    "    if shape == \"rectangle\":\n",
    "        area = dimension1 * dimension2\n",
    "    elif shape == \"square\":\n",
    "        area = dimension1 * dimension1  # Since dimension2 is 0 for square\n",
    "    else:\n",
    "        return \"Invalid shape\"\n",
    "    \n",
    "    return f\"The area of the {shape} is {area}.\"\n",
    "\n",
    "# Test the function with both shapes\n",
    "rectangle_area = calculate_area(\"rectangle\", 5, 3)\n",
    "square_area = calculate_area(\"square\", 4)\n",
    "\n",
    "print(rectangle_area)\n",
    "print(square_area)"
   ]
  },
  {
   "cell_type": "markdown",
   "id": "c3c309d3-ea5d-40b7-a04e-a4e619c92e8b",
   "metadata": {},
   "source": [
    "## 5. Discount Finder:\n",
    "Write a function calculate_discount(price, discount_percentage) that takes the cost of an item and a discount percentage and returns the price after discount. For example, a price of 100 with a discount of 20% should return 80."
   ]
  },
  {
   "cell_type": "code",
   "execution_count": 26,
   "id": "6f84711e-d3c4-48cd-9860-001a36b31c25",
   "metadata": {},
   "outputs": [
    {
     "name": "stdout",
     "output_type": "stream",
     "text": [
      "The selling price after discount is 80.0\n"
     ]
    }
   ],
   "source": [
    "cost_price = 100\n",
    "def calculate_discount(cost_price, discount_percentage):\n",
    "    selling_price = (cost_price - ((discount_percentage/cost_price) * 100))\n",
    "    return selling_price\n",
    "\n",
    "price = calculate_discount(100,20)\n",
    "print(f\"The selling price after discount is\", price)"
   ]
  },
  {
   "cell_type": "markdown",
   "id": "aa71157e-2333-422e-89c3-acd0186a2cd5",
   "metadata": {},
   "source": [
    "# **<span style=\"color: red\">Advanced Level</span>**"
   ]
  },
  {
   "cell_type": "markdown",
   "id": "19deb2d1-1dbe-4d2a-927f-4492ce1af793",
   "metadata": {},
   "source": [
    "## 1. Palindrome Checker:\n",
    "Write a function is_palindrome(word) that takes a string and checks if it is a palindrome. If it is, return \"It’s a palindrome!\"; otherwise, return \"Not a palindrome!\". Try it with words like \"level\" and \"hello\"."
   ]
  },
  {
   "cell_type": "code",
   "execution_count": 29,
   "id": "142e8f79-47f2-42a8-ae9d-b3ad4164f6d3",
   "metadata": {},
   "outputs": [
    {
     "name": "stdout",
     "output_type": "stream",
     "text": [
      "It’s a palindrome!\n",
      "Not a palindrome!\n"
     ]
    }
   ],
   "source": [
    "def is_palindrome(word):\n",
    "    # Convert the word to lowercase to make the check case-insensitive\n",
    "    word = word.lower()\n",
    "    # Check if the word is equal to its reverse\n",
    "    if word == word[::-1]:\n",
    "        return \"It’s a palindrome!\"\n",
    "    else:\n",
    "        return \"Not a palindrome!\"\n",
    "\n",
    "# Test the function with examples\n",
    "print(is_palindrome(\"level\"))  # Should return \"It’s a palindrome!\"\n",
    "print(is_palindrome(\"hello\"))  # Should return \"Not a palindrome!\"\n"
   ]
  },
  {
   "cell_type": "markdown",
   "id": "4464e55f-e643-4fc0-b303-f78daa08d118",
   "metadata": {},
   "source": [
    "## 2. Mystery Calculator:\n",
    "Create a function mystery_calculation(a, b, c) that accepts three numbers and returns the result of the following formula:((a + b) * c) / 2. Call the function with 5, 7, and 10."
   ]
  },
  {
   "cell_type": "code",
   "execution_count": 53,
   "id": "2e2f4241-00b1-4aab-8f70-12fcb254d481",
   "metadata": {},
   "outputs": [
    {
     "name": "stdout",
     "output_type": "stream",
     "text": [
      "Result is 60.0\n"
     ]
    }
   ],
   "source": [
    "def mystery_calculation(a, b, c):\n",
    "    return ((a + b) * c) / 2\n",
    "\n",
    "result = mystery_calculation(5,7,10)\n",
    "print(f\"Result is\",result)\n",
    "\n",
    "                            "
   ]
  },
  {
   "cell_type": "markdown",
   "id": "4dd6f87a-3de5-48d2-8d51-afb3655dcea1",
   "metadata": {},
   "source": [
    "## 3. Fibonacci Sequence Generator:\n",
    "Write a function generate_fibonacci(n) that returns the first n numbers of theFibonacci sequence. For example, for n = 5, the output should be [0, 1, 1, 2, 3]."
   ]
  },
  {
   "cell_type": "code",
   "execution_count": 55,
   "id": "c0bf07f6-ab08-4b30-a2f6-1b87cb61b34d",
   "metadata": {},
   "outputs": [
    {
     "name": "stdout",
     "output_type": "stream",
     "text": [
      "[0, 1, 1, 2, 3]\n"
     ]
    }
   ],
   "source": [
    "def generate_fibonacci(n):\n",
    "    # Return an empty list if n is less than or equal to 0\n",
    "    if n <= 0:\n",
    "        return []\n",
    "    # Start the Fibonacci sequence with the first two numbers\n",
    "    fibonacci_sequence = [0, 1]\n",
    "    while len(fibonacci_sequence) < n:\n",
    "        # Add the sum of the last two numbers to the sequence\n",
    "        fibonacci_sequence.append(fibonacci_sequence[-1] + fibonacci_sequence[-2])\n",
    "    return fibonacci_sequence[:n]\n",
    "\n",
    "# OUTPUT\n",
    "print(generate_fibonacci(5))  "
   ]
  },
  {
   "cell_type": "markdown",
   "id": "f8947752-c62c-40b4-9a32-30206680b761",
   "metadata": {},
   "source": [
    "## 4. Word Frequency Counter:\n",
    "Create a function count_word_frequency(text, word) that takes a string and a word, then counts how many times the word appears in the string. Call it with the sentence \"Python is fun, Python is powerful\" and the word \"Python\"."
   ]
  },
  {
   "cell_type": "code",
   "execution_count": 4,
   "id": "72b210f5-bea7-4c14-8d8f-67dac1d804de",
   "metadata": {},
   "outputs": [
    {
     "name": "stdout",
     "output_type": "stream",
     "text": [
      "2\n"
     ]
    }
   ],
   "source": [
    "def count_word_frequency(text, word):\n",
    "    if word in text:\n",
    "        return text.count(word)\n",
    "    else:\n",
    "        return 0\n",
    "\n",
    "\n",
    "txt = \"Python is fun, Python is powerful\"\n",
    "word_to_count = \"Python\"\n",
    "print(count_word_frequency(txt, word_to_count))"
   ]
  },
  {
   "cell_type": "markdown",
   "id": "57dd56da-b5be-40b6-a0d2-0388191af7bd",
   "metadata": {},
   "source": [
    "## 5. Mystery Number Finder:\n",
    "Write a function find_mystery_number(numbers) that accepts a list of numbers and returns the largest even number in the list. If there are no even numbers, return \"No even numbers found!\". Test the function with the list [3, 5, 7, 8, 12, 14]."
   ]
  },
  {
   "cell_type": "code",
   "execution_count": 26,
   "id": "c36e39c5-c4e6-4719-9c5e-682307b7dc21",
   "metadata": {},
   "outputs": [
    {
     "name": "stdout",
     "output_type": "stream",
     "text": [
      "14\n"
     ]
    }
   ],
   "source": [
    "def find_mystery_number(numbers):\n",
    "    even_numbers = [num for num in numbers if num % 2 == 0]\n",
    "    if even_numbers:\n",
    "        return max(even_numbers)\n",
    "    else:\n",
    "        return \"No even numbers found!\"\n",
    "\n",
    "test_list = [3, 5, 7, 8, 12, 14]\n",
    "result = find_mystery_number(test_list)\n",
    "print(result)\n"
   ]
  },
  {
   "cell_type": "code",
   "execution_count": null,
   "id": "60404b74-a32a-4cfd-a71f-5eb84d422381",
   "metadata": {},
   "outputs": [],
   "source": []
  }
 ],
 "metadata": {
  "kernelspec": {
   "display_name": "Python [conda env:base] *",
   "language": "python",
   "name": "conda-base-py"
  },
  "language_info": {
   "codemirror_mode": {
    "name": "ipython",
    "version": 3
   },
   "file_extension": ".py",
   "mimetype": "text/x-python",
   "name": "python",
   "nbconvert_exporter": "python",
   "pygments_lexer": "ipython3",
   "version": "3.12.7"
  }
 },
 "nbformat": 4,
 "nbformat_minor": 5
}
